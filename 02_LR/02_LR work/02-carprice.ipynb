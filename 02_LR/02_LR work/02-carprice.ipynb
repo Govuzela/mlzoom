{
 "cells": [
  {
   "cell_type": "code",
   "execution_count": 27,
   "metadata": {},
   "outputs": [],
   "source": [
    "import pandas as pd\n",
    "import numpy as np\n",
    "\n",
    "import seaborn as sns\n",
    "from matplotlib import pyplot as plt\n",
    "%matplotlib inline"
   ]
  },
  {
   "cell_type": "markdown",
   "metadata": {},
   "source": [
    "# Data preparation"
   ]
  },
  {
   "cell_type": "code",
   "execution_count": 28,
   "metadata": {},
   "outputs": [
    {
     "data": {
      "text/plain": [
       "11914"
      ]
     },
     "execution_count": 28,
     "metadata": {},
     "output_type": "execute_result"
    }
   ],
   "source": [
    "df = pd.read_csv('data.csv')\n",
    "len(df)"
   ]
  },
  {
   "cell_type": "code",
   "execution_count": 29,
   "metadata": {},
   "outputs": [
    {
     "data": {
      "text/html": [
       "<div>\n",
       "<style scoped>\n",
       "    .dataframe tbody tr th:only-of-type {\n",
       "        vertical-align: middle;\n",
       "    }\n",
       "\n",
       "    .dataframe tbody tr th {\n",
       "        vertical-align: top;\n",
       "    }\n",
       "\n",
       "    .dataframe thead th {\n",
       "        text-align: right;\n",
       "    }\n",
       "</style>\n",
       "<table border=\"1\" class=\"dataframe\">\n",
       "  <thead>\n",
       "    <tr style=\"text-align: right;\">\n",
       "      <th></th>\n",
       "      <th>Make</th>\n",
       "      <th>Model</th>\n",
       "      <th>Year</th>\n",
       "      <th>Engine Fuel Type</th>\n",
       "      <th>Engine HP</th>\n",
       "      <th>Engine Cylinders</th>\n",
       "      <th>Transmission Type</th>\n",
       "      <th>Driven_Wheels</th>\n",
       "      <th>Number of Doors</th>\n",
       "      <th>Market Category</th>\n",
       "      <th>Vehicle Size</th>\n",
       "      <th>Vehicle Style</th>\n",
       "      <th>highway MPG</th>\n",
       "      <th>city mpg</th>\n",
       "      <th>Popularity</th>\n",
       "      <th>MSRP</th>\n",
       "    </tr>\n",
       "  </thead>\n",
       "  <tbody>\n",
       "    <tr>\n",
       "      <th>0</th>\n",
       "      <td>BMW</td>\n",
       "      <td>1 Series M</td>\n",
       "      <td>2011</td>\n",
       "      <td>premium unleaded (required)</td>\n",
       "      <td>335.0</td>\n",
       "      <td>6.0</td>\n",
       "      <td>MANUAL</td>\n",
       "      <td>rear wheel drive</td>\n",
       "      <td>2.0</td>\n",
       "      <td>Factory Tuner,Luxury,High-Performance</td>\n",
       "      <td>Compact</td>\n",
       "      <td>Coupe</td>\n",
       "      <td>26</td>\n",
       "      <td>19</td>\n",
       "      <td>3916</td>\n",
       "      <td>46135</td>\n",
       "    </tr>\n",
       "    <tr>\n",
       "      <th>1</th>\n",
       "      <td>BMW</td>\n",
       "      <td>1 Series</td>\n",
       "      <td>2011</td>\n",
       "      <td>premium unleaded (required)</td>\n",
       "      <td>300.0</td>\n",
       "      <td>6.0</td>\n",
       "      <td>MANUAL</td>\n",
       "      <td>rear wheel drive</td>\n",
       "      <td>2.0</td>\n",
       "      <td>Luxury,Performance</td>\n",
       "      <td>Compact</td>\n",
       "      <td>Convertible</td>\n",
       "      <td>28</td>\n",
       "      <td>19</td>\n",
       "      <td>3916</td>\n",
       "      <td>40650</td>\n",
       "    </tr>\n",
       "    <tr>\n",
       "      <th>2</th>\n",
       "      <td>BMW</td>\n",
       "      <td>1 Series</td>\n",
       "      <td>2011</td>\n",
       "      <td>premium unleaded (required)</td>\n",
       "      <td>300.0</td>\n",
       "      <td>6.0</td>\n",
       "      <td>MANUAL</td>\n",
       "      <td>rear wheel drive</td>\n",
       "      <td>2.0</td>\n",
       "      <td>Luxury,High-Performance</td>\n",
       "      <td>Compact</td>\n",
       "      <td>Coupe</td>\n",
       "      <td>28</td>\n",
       "      <td>20</td>\n",
       "      <td>3916</td>\n",
       "      <td>36350</td>\n",
       "    </tr>\n",
       "    <tr>\n",
       "      <th>3</th>\n",
       "      <td>BMW</td>\n",
       "      <td>1 Series</td>\n",
       "      <td>2011</td>\n",
       "      <td>premium unleaded (required)</td>\n",
       "      <td>230.0</td>\n",
       "      <td>6.0</td>\n",
       "      <td>MANUAL</td>\n",
       "      <td>rear wheel drive</td>\n",
       "      <td>2.0</td>\n",
       "      <td>Luxury,Performance</td>\n",
       "      <td>Compact</td>\n",
       "      <td>Coupe</td>\n",
       "      <td>28</td>\n",
       "      <td>18</td>\n",
       "      <td>3916</td>\n",
       "      <td>29450</td>\n",
       "    </tr>\n",
       "    <tr>\n",
       "      <th>4</th>\n",
       "      <td>BMW</td>\n",
       "      <td>1 Series</td>\n",
       "      <td>2011</td>\n",
       "      <td>premium unleaded (required)</td>\n",
       "      <td>230.0</td>\n",
       "      <td>6.0</td>\n",
       "      <td>MANUAL</td>\n",
       "      <td>rear wheel drive</td>\n",
       "      <td>2.0</td>\n",
       "      <td>Luxury</td>\n",
       "      <td>Compact</td>\n",
       "      <td>Convertible</td>\n",
       "      <td>28</td>\n",
       "      <td>18</td>\n",
       "      <td>3916</td>\n",
       "      <td>34500</td>\n",
       "    </tr>\n",
       "  </tbody>\n",
       "</table>\n",
       "</div>"
      ],
      "text/plain": [
       "  Make       Model  Year             Engine Fuel Type  Engine HP  \\\n",
       "0  BMW  1 Series M  2011  premium unleaded (required)      335.0   \n",
       "1  BMW    1 Series  2011  premium unleaded (required)      300.0   \n",
       "2  BMW    1 Series  2011  premium unleaded (required)      300.0   \n",
       "3  BMW    1 Series  2011  premium unleaded (required)      230.0   \n",
       "4  BMW    1 Series  2011  premium unleaded (required)      230.0   \n",
       "\n",
       "   Engine Cylinders Transmission Type     Driven_Wheels  Number of Doors  \\\n",
       "0               6.0            MANUAL  rear wheel drive              2.0   \n",
       "1               6.0            MANUAL  rear wheel drive              2.0   \n",
       "2               6.0            MANUAL  rear wheel drive              2.0   \n",
       "3               6.0            MANUAL  rear wheel drive              2.0   \n",
       "4               6.0            MANUAL  rear wheel drive              2.0   \n",
       "\n",
       "                         Market Category Vehicle Size Vehicle Style  \\\n",
       "0  Factory Tuner,Luxury,High-Performance      Compact         Coupe   \n",
       "1                     Luxury,Performance      Compact   Convertible   \n",
       "2                Luxury,High-Performance      Compact         Coupe   \n",
       "3                     Luxury,Performance      Compact         Coupe   \n",
       "4                                 Luxury      Compact   Convertible   \n",
       "\n",
       "   highway MPG  city mpg  Popularity   MSRP  \n",
       "0           26        19        3916  46135  \n",
       "1           28        19        3916  40650  \n",
       "2           28        20        3916  36350  \n",
       "3           28        18        3916  29450  \n",
       "4           28        18        3916  34500  "
      ]
     },
     "execution_count": 29,
     "metadata": {},
     "output_type": "execute_result"
    }
   ],
   "source": [
    "df.head()"
   ]
  },
  {
   "cell_type": "code",
   "execution_count": 30,
   "metadata": {},
   "outputs": [
    {
     "data": {
      "text/plain": [
       "Index(['make', 'model', 'year', 'engine_fuel_type', 'engine_hp',\n",
       "       'engine_cylinders', 'transmission_type', 'driven_wheels',\n",
       "       'number_of_doors', 'market_category', 'vehicle_size', 'vehicle_style',\n",
       "       'highway_mpg', 'city_mpg', 'popularity', 'msrp'],\n",
       "      dtype='object')"
      ]
     },
     "execution_count": 30,
     "metadata": {},
     "output_type": "execute_result"
    }
   ],
   "source": [
    "df.columns.str.lower().str.replace(' ','_')\n"
   ]
  },
  {
   "cell_type": "code",
   "execution_count": 31,
   "metadata": {},
   "outputs": [],
   "source": [
    "df.columns = df.columns.str.lower().str.replace(' ', '_')\n",
    "\n",
    "# dtype object is a string\n",
    "# we get the indices of all columns of dtype object\n",
    "str_columns = list(df.dtypes[df.dtypes=='object'].index)\n",
    "\n",
    "\n",
    "for col in str_columns:\n",
    "    df[col] = df[col].str.lower().str.replace(' ', '_')"
   ]
  },
  {
   "cell_type": "code",
   "execution_count": 32,
   "metadata": {},
   "outputs": [
    {
     "data": {
      "text/html": [
       "<div>\n",
       "<style scoped>\n",
       "    .dataframe tbody tr th:only-of-type {\n",
       "        vertical-align: middle;\n",
       "    }\n",
       "\n",
       "    .dataframe tbody tr th {\n",
       "        vertical-align: top;\n",
       "    }\n",
       "\n",
       "    .dataframe thead th {\n",
       "        text-align: right;\n",
       "    }\n",
       "</style>\n",
       "<table border=\"1\" class=\"dataframe\">\n",
       "  <thead>\n",
       "    <tr style=\"text-align: right;\">\n",
       "      <th></th>\n",
       "      <th>make</th>\n",
       "      <th>model</th>\n",
       "      <th>year</th>\n",
       "      <th>engine_fuel_type</th>\n",
       "      <th>engine_hp</th>\n",
       "      <th>engine_cylinders</th>\n",
       "      <th>transmission_type</th>\n",
       "      <th>driven_wheels</th>\n",
       "      <th>number_of_doors</th>\n",
       "      <th>market_category</th>\n",
       "      <th>vehicle_size</th>\n",
       "      <th>vehicle_style</th>\n",
       "      <th>highway_mpg</th>\n",
       "      <th>city_mpg</th>\n",
       "      <th>popularity</th>\n",
       "      <th>msrp</th>\n",
       "    </tr>\n",
       "  </thead>\n",
       "  <tbody>\n",
       "    <tr>\n",
       "      <th>0</th>\n",
       "      <td>bmw</td>\n",
       "      <td>1_series_m</td>\n",
       "      <td>2011</td>\n",
       "      <td>premium_unleaded_(required)</td>\n",
       "      <td>335.0</td>\n",
       "      <td>6.0</td>\n",
       "      <td>manual</td>\n",
       "      <td>rear_wheel_drive</td>\n",
       "      <td>2.0</td>\n",
       "      <td>factory_tuner,luxury,high-performance</td>\n",
       "      <td>compact</td>\n",
       "      <td>coupe</td>\n",
       "      <td>26</td>\n",
       "      <td>19</td>\n",
       "      <td>3916</td>\n",
       "      <td>46135</td>\n",
       "    </tr>\n",
       "    <tr>\n",
       "      <th>1</th>\n",
       "      <td>bmw</td>\n",
       "      <td>1_series</td>\n",
       "      <td>2011</td>\n",
       "      <td>premium_unleaded_(required)</td>\n",
       "      <td>300.0</td>\n",
       "      <td>6.0</td>\n",
       "      <td>manual</td>\n",
       "      <td>rear_wheel_drive</td>\n",
       "      <td>2.0</td>\n",
       "      <td>luxury,performance</td>\n",
       "      <td>compact</td>\n",
       "      <td>convertible</td>\n",
       "      <td>28</td>\n",
       "      <td>19</td>\n",
       "      <td>3916</td>\n",
       "      <td>40650</td>\n",
       "    </tr>\n",
       "    <tr>\n",
       "      <th>2</th>\n",
       "      <td>bmw</td>\n",
       "      <td>1_series</td>\n",
       "      <td>2011</td>\n",
       "      <td>premium_unleaded_(required)</td>\n",
       "      <td>300.0</td>\n",
       "      <td>6.0</td>\n",
       "      <td>manual</td>\n",
       "      <td>rear_wheel_drive</td>\n",
       "      <td>2.0</td>\n",
       "      <td>luxury,high-performance</td>\n",
       "      <td>compact</td>\n",
       "      <td>coupe</td>\n",
       "      <td>28</td>\n",
       "      <td>20</td>\n",
       "      <td>3916</td>\n",
       "      <td>36350</td>\n",
       "    </tr>\n",
       "    <tr>\n",
       "      <th>3</th>\n",
       "      <td>bmw</td>\n",
       "      <td>1_series</td>\n",
       "      <td>2011</td>\n",
       "      <td>premium_unleaded_(required)</td>\n",
       "      <td>230.0</td>\n",
       "      <td>6.0</td>\n",
       "      <td>manual</td>\n",
       "      <td>rear_wheel_drive</td>\n",
       "      <td>2.0</td>\n",
       "      <td>luxury,performance</td>\n",
       "      <td>compact</td>\n",
       "      <td>coupe</td>\n",
       "      <td>28</td>\n",
       "      <td>18</td>\n",
       "      <td>3916</td>\n",
       "      <td>29450</td>\n",
       "    </tr>\n",
       "    <tr>\n",
       "      <th>4</th>\n",
       "      <td>bmw</td>\n",
       "      <td>1_series</td>\n",
       "      <td>2011</td>\n",
       "      <td>premium_unleaded_(required)</td>\n",
       "      <td>230.0</td>\n",
       "      <td>6.0</td>\n",
       "      <td>manual</td>\n",
       "      <td>rear_wheel_drive</td>\n",
       "      <td>2.0</td>\n",
       "      <td>luxury</td>\n",
       "      <td>compact</td>\n",
       "      <td>convertible</td>\n",
       "      <td>28</td>\n",
       "      <td>18</td>\n",
       "      <td>3916</td>\n",
       "      <td>34500</td>\n",
       "    </tr>\n",
       "  </tbody>\n",
       "</table>\n",
       "</div>"
      ],
      "text/plain": [
       "  make       model  year             engine_fuel_type  engine_hp  \\\n",
       "0  bmw  1_series_m  2011  premium_unleaded_(required)      335.0   \n",
       "1  bmw    1_series  2011  premium_unleaded_(required)      300.0   \n",
       "2  bmw    1_series  2011  premium_unleaded_(required)      300.0   \n",
       "3  bmw    1_series  2011  premium_unleaded_(required)      230.0   \n",
       "4  bmw    1_series  2011  premium_unleaded_(required)      230.0   \n",
       "\n",
       "   engine_cylinders transmission_type     driven_wheels  number_of_doors  \\\n",
       "0               6.0            manual  rear_wheel_drive              2.0   \n",
       "1               6.0            manual  rear_wheel_drive              2.0   \n",
       "2               6.0            manual  rear_wheel_drive              2.0   \n",
       "3               6.0            manual  rear_wheel_drive              2.0   \n",
       "4               6.0            manual  rear_wheel_drive              2.0   \n",
       "\n",
       "                         market_category vehicle_size vehicle_style  \\\n",
       "0  factory_tuner,luxury,high-performance      compact         coupe   \n",
       "1                     luxury,performance      compact   convertible   \n",
       "2                luxury,high-performance      compact         coupe   \n",
       "3                     luxury,performance      compact         coupe   \n",
       "4                                 luxury      compact   convertible   \n",
       "\n",
       "   highway_mpg  city_mpg  popularity   msrp  \n",
       "0           26        19        3916  46135  \n",
       "1           28        19        3916  40650  \n",
       "2           28        20        3916  36350  \n",
       "3           28        18        3916  29450  \n",
       "4           28        18        3916  34500  "
      ]
     },
     "execution_count": 32,
     "metadata": {},
     "output_type": "execute_result"
    }
   ],
   "source": [
    "df.head()"
   ]
  },
  {
   "cell_type": "code",
   "execution_count": 33,
   "metadata": {},
   "outputs": [
    {
     "name": "stdout",
     "output_type": "stream",
     "text": [
      "make\n",
      "['bmw' 'audi' 'fiat' 'mercedes-benz' 'chrysler']\n",
      "48\n",
      "\n",
      "model\n",
      "['1_series_m' '1_series' '100' '124_spider' '190-class']\n",
      "914\n",
      "\n",
      "year\n",
      "[2011 2012 2013 1992 1993]\n",
      "28\n",
      "\n",
      "engine_fuel_type\n",
      "['premium_unleaded_(required)' 'regular_unleaded'\n",
      " 'premium_unleaded_(recommended)' 'flex-fuel_(unleaded/e85)' 'diesel']\n",
      "10\n",
      "\n",
      "engine_hp\n",
      "[335. 300. 230. 320. 172.]\n",
      "356\n",
      "\n",
      "engine_cylinders\n",
      "[ 6.  4.  5.  8. 12.]\n",
      "9\n",
      "\n",
      "transmission_type\n",
      "['manual' 'automatic' 'automated_manual' 'direct_drive' 'unknown']\n",
      "5\n",
      "\n",
      "driven_wheels\n",
      "['rear_wheel_drive' 'front_wheel_drive' 'all_wheel_drive'\n",
      " 'four_wheel_drive']\n",
      "4\n",
      "\n",
      "number_of_doors\n",
      "[ 2.  4.  3. nan]\n",
      "3\n",
      "\n",
      "market_category\n",
      "['factory_tuner,luxury,high-performance' 'luxury,performance'\n",
      " 'luxury,high-performance' 'luxury' 'performance']\n",
      "71\n",
      "\n",
      "vehicle_size\n",
      "['compact' 'midsize' 'large']\n",
      "3\n",
      "\n",
      "vehicle_style\n",
      "['coupe' 'convertible' 'sedan' 'wagon' '4dr_hatchback']\n",
      "16\n",
      "\n",
      "highway_mpg\n",
      "[26 28 27 25 24]\n",
      "59\n",
      "\n",
      "city_mpg\n",
      "[19 20 18 17 16]\n",
      "69\n",
      "\n",
      "popularity\n",
      "[3916 3105  819  617 1013]\n",
      "48\n",
      "\n",
      "msrp\n",
      "[46135 40650 36350 29450 34500]\n",
      "6049\n",
      "\n"
     ]
    }
   ],
   "source": [
    "for col in df.columns:\n",
    "    print(col)\n",
    "    print(df[col].unique()[:5])\n",
    "    print(df[col].nunique())\n",
    "    print()"
   ]
  },
  {
   "cell_type": "markdown",
   "metadata": {},
   "source": [
    "## Exploratory data analysis"
   ]
  },
  {
   "cell_type": "code",
   "execution_count": 34,
   "metadata": {},
   "outputs": [
    {
     "data": {
      "image/png": "[encoded data removed]",
      "text/plain": [
       "<Figure size 600x400 with 1 Axes>"
      ]
     },
     "metadata": {},
     "output_type": "display_data"
    }
   ],
   "source": [
    "plt.figure(figsize=(6, 4))\n",
    "\n",
    "sns.histplot(df.msrp[df.msrp<100000], bins=40, color='black', alpha=1)\n",
    "\n",
    "plt.ylabel('Frequency')\n",
    "plt.xlabel('Price')\n",
    "plt.title('Distribution of prices')\n",
    "\n",
    "plt.show()"
   ]
  },
  {
   "cell_type": "code",
   "execution_count": 35,
   "metadata": {},
   "outputs": [
    {
     "data": {
      "text/plain": [
       "<Axes: xlabel='msrp', ylabel='Count'>"
      ]
     },
     "execution_count": 35,
     "metadata": {},
     "output_type": "execute_result"
    },
    {
     "data": {
      "image/png": "[encoded data removed]",
      "text/plain": [
       "<Figure size 640x480 with 1 Axes>"
      ]
     },
     "metadata": {},
     "output_type": "display_data"
    }
   ],
   "source": [
    "sns.histplot(np.log1p(df.msrp),bins = 50)"
   ]
  },
  {
   "cell_type": "code",
   "execution_count": 36,
   "metadata": {},
   "outputs": [
    {
     "data": {
      "image/png": "[encoded data removed]",
      "text/plain": [
       "<Figure size 600x400 with 1 Axes>"
      ]
     },
     "metadata": {},
     "output_type": "display_data"
    }
   ],
   "source": [
    "plt.figure(figsize=(6, 4))\n",
    "\n",
    "sns.histplot(np.log1p(df.msrp[df.msrp < 100000]), bins=40, color='black', alpha=1)\n",
    "plt.ylabel('Frequency')\n",
    "plt.xlabel('Price')\n",
    "plt.title('Distribution of prices')\n",
    "\n",
    "plt.show()"
   ]
  },
  {
   "cell_type": "code",
   "execution_count": 37,
   "metadata": {},
   "outputs": [
    {
     "data": {
      "image/png": "[encoded data removed]",
      "text/plain": [
       "<Figure size 600x400 with 1 Axes>"
      ]
     },
     "metadata": {},
     "output_type": "display_data"
    }
   ],
   "source": [
    "log_price = np.log1p(df.msrp)\n",
    "\n",
    "plt.figure(figsize=(6, 4))\n",
    "\n",
    "sns.histplot(log_price, bins=40, color='black', alpha=1)\n",
    "plt.ylabel('Frequency')\n",
    "plt.xlabel('Log(Price + 1)')\n",
    "plt.title('Distribution of prices after log tranformation')\n",
    "\n",
    "plt.show()"
   ]
  },
  {
   "cell_type": "code",
   "execution_count": 38,
   "metadata": {},
   "outputs": [
    {
     "data": {
      "text/plain": [
       "make                    0\n",
       "model                   0\n",
       "year                    0\n",
       "engine_fuel_type        3\n",
       "engine_hp              69\n",
       "engine_cylinders       30\n",
       "transmission_type       0\n",
       "driven_wheels           0\n",
       "number_of_doors         6\n",
       "market_category      3742\n",
       "vehicle_size            0\n",
       "vehicle_style           0\n",
       "highway_mpg             0\n",
       "city_mpg                0\n",
       "popularity              0\n",
       "msrp                    0\n",
       "dtype: int64"
      ]
     },
     "execution_count": 38,
     "metadata": {},
     "output_type": "execute_result"
    }
   ],
   "source": [
    "#Missing values\n",
    "\n",
    "df.isnull().sum()"
   ]
  },
  {
   "cell_type": "code",
   "execution_count": 39,
   "metadata": {},
   "outputs": [
    {
     "data": {
      "text/plain": [
       "make                 0\n",
       "model                0\n",
       "year                 0\n",
       "engine_fuel_type     0\n",
       "engine_hp            0\n",
       "engine_cylinders     0\n",
       "transmission_type    0\n",
       "driven_wheels        0\n",
       "number_of_doors      0\n",
       "market_category      0\n",
       "vehicle_size         0\n",
       "vehicle_style        0\n",
       "highway_mpg          0\n",
       "city_mpg             0\n",
       "popularity           0\n",
       "msrp                 0\n",
       "dtype: int64"
      ]
     },
     "execution_count": 39,
     "metadata": {},
     "output_type": "execute_result"
    }
   ],
   "source": [
    "df.fillna(0, inplace=True)\n",
    "\n",
    "df.isnull().sum()"
   ]
  },
  {
   "cell_type": "markdown",
   "metadata": {},
   "source": [
    "# Expoloring the relationships between variables\n"
   ]
  },
  {
   "cell_type": "code",
   "execution_count": 40,
   "metadata": {},
   "outputs": [],
   "source": [
    "#df_numerical.columns"
   ]
  },
  {
   "cell_type": "code",
   "execution_count": 41,
   "metadata": {},
   "outputs": [
    {
     "data": {
      "image/png": "[encoded data removed]",
      "text/plain": [
       "<Figure size 1000x800 with 2 Axes>"
      ]
     },
     "metadata": {},
     "output_type": "display_data"
    }
   ],
   "source": [
    "numerical_columns = df.select_dtypes(include=[np.number]).columns.tolist()\n",
    "correlation_matrix = df[numerical_columns].corr()\n",
    "plt.figure(figsize=(10, 8)) # Adjust figure size as needed\n",
    "sns.heatmap(correlation_matrix, annot=True, cmap='coolwarm', fmt=\".2f\", linewidths=.5)\n",
    "plt.title('Correlation Matrix Heatmap')\n",
    "plt.show()"
   ]
  },
  {
   "cell_type": "markdown",
   "metadata": {},
   "source": [
    "## Validation framework"
   ]
  },
  {
   "cell_type": "code",
   "execution_count": 42,
   "metadata": {},
   "outputs": [],
   "source": [
    "n = len(df)\n",
    "n_train = int(n*0.6)\n",
    "n_val = int(n*0.2)\n",
    "n_test = n - n_train - n_val\n"
   ]
  },
  {
   "cell_type": "code",
   "execution_count": 43,
   "metadata": {},
   "outputs": [
    {
     "name": "stdout",
     "output_type": "stream",
     "text": [
      "[2735 6720 5878 ... 6637 2575 7336]\n"
     ]
    }
   ],
   "source": [
    "np.random.seed(2)\n",
    "#shuffle the indices\n",
    "indx= np.random.permutation(n)\n",
    "print(indx)"
   ]
  },
  {
   "cell_type": "code",
   "execution_count": 44,
   "metadata": {},
   "outputs": [],
   "source": [
    "# split the data into train, validation and test sets\n",
    "# first n_train rows for training, next n_val rows for validation, rest for testing\n",
    "\n",
    "df_train = df.iloc[indx[:n_train]]\n",
    "df_val= df.iloc[indx[n_train:n_train+n_val]]\n",
    "df_test= df.iloc[indx[n_train+n_val:]]\n",
    "\n"
   ]
  },
  {
   "cell_type": "code",
   "execution_count": 45,
   "metadata": {},
   "outputs": [],
   "source": [
    "# reset the indices \n",
    "\n",
    "df_train = df_train.reset_index(drop=True)\n",
    "df_val = df_val.reset_index(drop=True)          \n",
    "df_test = df_test.reset_index(drop=True)"
   ]
  },
  {
   "cell_type": "code",
   "execution_count": 46,
   "metadata": {},
   "outputs": [
    {
     "data": {
      "text/html": [
       "<div>\n",
       "<style scoped>\n",
       "    .dataframe tbody tr th:only-of-type {\n",
       "        vertical-align: middle;\n",
       "    }\n",
       "\n",
       "    .dataframe tbody tr th {\n",
       "        vertical-align: top;\n",
       "    }\n",
       "\n",
       "    .dataframe thead th {\n",
       "        text-align: right;\n",
       "    }\n",
       "</style>\n",
       "<table border=\"1\" class=\"dataframe\">\n",
       "  <thead>\n",
       "    <tr style=\"text-align: right;\">\n",
       "      <th></th>\n",
       "      <th>make</th>\n",
       "      <th>model</th>\n",
       "      <th>year</th>\n",
       "      <th>engine_fuel_type</th>\n",
       "      <th>engine_hp</th>\n",
       "      <th>engine_cylinders</th>\n",
       "      <th>transmission_type</th>\n",
       "      <th>driven_wheels</th>\n",
       "      <th>number_of_doors</th>\n",
       "      <th>market_category</th>\n",
       "      <th>vehicle_size</th>\n",
       "      <th>vehicle_style</th>\n",
       "      <th>highway_mpg</th>\n",
       "      <th>city_mpg</th>\n",
       "      <th>popularity</th>\n",
       "      <th>msrp</th>\n",
       "    </tr>\n",
       "  </thead>\n",
       "  <tbody>\n",
       "    <tr>\n",
       "      <th>0</th>\n",
       "      <td>chevrolet</td>\n",
       "      <td>cobalt</td>\n",
       "      <td>2008</td>\n",
       "      <td>regular_unleaded</td>\n",
       "      <td>148.0</td>\n",
       "      <td>4.0</td>\n",
       "      <td>manual</td>\n",
       "      <td>front_wheel_drive</td>\n",
       "      <td>2.0</td>\n",
       "      <td>0</td>\n",
       "      <td>compact</td>\n",
       "      <td>coupe</td>\n",
       "      <td>33</td>\n",
       "      <td>24</td>\n",
       "      <td>1385</td>\n",
       "      <td>14410</td>\n",
       "    </tr>\n",
       "    <tr>\n",
       "      <th>1</th>\n",
       "      <td>toyota</td>\n",
       "      <td>matrix</td>\n",
       "      <td>2012</td>\n",
       "      <td>regular_unleaded</td>\n",
       "      <td>132.0</td>\n",
       "      <td>4.0</td>\n",
       "      <td>automatic</td>\n",
       "      <td>front_wheel_drive</td>\n",
       "      <td>4.0</td>\n",
       "      <td>hatchback</td>\n",
       "      <td>compact</td>\n",
       "      <td>4dr_hatchback</td>\n",
       "      <td>32</td>\n",
       "      <td>25</td>\n",
       "      <td>2031</td>\n",
       "      <td>19685</td>\n",
       "    </tr>\n",
       "    <tr>\n",
       "      <th>2</th>\n",
       "      <td>subaru</td>\n",
       "      <td>impreza</td>\n",
       "      <td>2016</td>\n",
       "      <td>regular_unleaded</td>\n",
       "      <td>148.0</td>\n",
       "      <td>4.0</td>\n",
       "      <td>automatic</td>\n",
       "      <td>all_wheel_drive</td>\n",
       "      <td>4.0</td>\n",
       "      <td>hatchback</td>\n",
       "      <td>compact</td>\n",
       "      <td>4dr_hatchback</td>\n",
       "      <td>37</td>\n",
       "      <td>28</td>\n",
       "      <td>640</td>\n",
       "      <td>19795</td>\n",
       "    </tr>\n",
       "    <tr>\n",
       "      <th>3</th>\n",
       "      <td>volkswagen</td>\n",
       "      <td>vanagon</td>\n",
       "      <td>1991</td>\n",
       "      <td>regular_unleaded</td>\n",
       "      <td>90.0</td>\n",
       "      <td>4.0</td>\n",
       "      <td>manual</td>\n",
       "      <td>rear_wheel_drive</td>\n",
       "      <td>3.0</td>\n",
       "      <td>0</td>\n",
       "      <td>large</td>\n",
       "      <td>passenger_minivan</td>\n",
       "      <td>18</td>\n",
       "      <td>16</td>\n",
       "      <td>873</td>\n",
       "      <td>2000</td>\n",
       "    </tr>\n",
       "    <tr>\n",
       "      <th>4</th>\n",
       "      <td>ford</td>\n",
       "      <td>f-150</td>\n",
       "      <td>2017</td>\n",
       "      <td>flex-fuel_(unleaded/e85)</td>\n",
       "      <td>385.0</td>\n",
       "      <td>8.0</td>\n",
       "      <td>automatic</td>\n",
       "      <td>four_wheel_drive</td>\n",
       "      <td>4.0</td>\n",
       "      <td>flex_fuel</td>\n",
       "      <td>large</td>\n",
       "      <td>crew_cab_pickup</td>\n",
       "      <td>21</td>\n",
       "      <td>15</td>\n",
       "      <td>5657</td>\n",
       "      <td>56260</td>\n",
       "    </tr>\n",
       "  </tbody>\n",
       "</table>\n",
       "</div>"
      ],
      "text/plain": [
       "         make    model  year          engine_fuel_type  engine_hp  \\\n",
       "0   chevrolet   cobalt  2008          regular_unleaded      148.0   \n",
       "1      toyota   matrix  2012          regular_unleaded      132.0   \n",
       "2      subaru  impreza  2016          regular_unleaded      148.0   \n",
       "3  volkswagen  vanagon  1991          regular_unleaded       90.0   \n",
       "4        ford    f-150  2017  flex-fuel_(unleaded/e85)      385.0   \n",
       "\n",
       "   engine_cylinders transmission_type      driven_wheels  number_of_doors  \\\n",
       "0               4.0            manual  front_wheel_drive              2.0   \n",
       "1               4.0         automatic  front_wheel_drive              4.0   \n",
       "2               4.0         automatic    all_wheel_drive              4.0   \n",
       "3               4.0            manual   rear_wheel_drive              3.0   \n",
       "4               8.0         automatic   four_wheel_drive              4.0   \n",
       "\n",
       "  market_category vehicle_size      vehicle_style  highway_mpg  city_mpg  \\\n",
       "0               0      compact              coupe           33        24   \n",
       "1       hatchback      compact      4dr_hatchback           32        25   \n",
       "2       hatchback      compact      4dr_hatchback           37        28   \n",
       "3               0        large  passenger_minivan           18        16   \n",
       "4       flex_fuel        large    crew_cab_pickup           21        15   \n",
       "\n",
       "   popularity   msrp  \n",
       "0        1385  14410  \n",
       "1        2031  19685  \n",
       "2         640  19795  \n",
       "3         873   2000  \n",
       "4        5657  56260  "
      ]
     },
     "execution_count": 46,
     "metadata": {},
     "output_type": "execute_result"
    }
   ],
   "source": [
    "df_train.head()"
   ]
  },
  {
   "cell_type": "code",
   "execution_count": 47,
   "metadata": {},
   "outputs": [
    {
     "data": {
      "text/html": [
       "<div>\n",
       "<style scoped>\n",
       "    .dataframe tbody tr th:only-of-type {\n",
       "        vertical-align: middle;\n",
       "    }\n",
       "\n",
       "    .dataframe tbody tr th {\n",
       "        vertical-align: top;\n",
       "    }\n",
       "\n",
       "    .dataframe thead th {\n",
       "        text-align: right;\n",
       "    }\n",
       "</style>\n",
       "<table border=\"1\" class=\"dataframe\">\n",
       "  <thead>\n",
       "    <tr style=\"text-align: right;\">\n",
       "      <th></th>\n",
       "      <th>make</th>\n",
       "      <th>model</th>\n",
       "      <th>year</th>\n",
       "      <th>engine_fuel_type</th>\n",
       "      <th>engine_hp</th>\n",
       "      <th>engine_cylinders</th>\n",
       "      <th>transmission_type</th>\n",
       "      <th>driven_wheels</th>\n",
       "      <th>number_of_doors</th>\n",
       "      <th>market_category</th>\n",
       "      <th>vehicle_size</th>\n",
       "      <th>vehicle_style</th>\n",
       "      <th>highway_mpg</th>\n",
       "      <th>city_mpg</th>\n",
       "      <th>popularity</th>\n",
       "      <th>msrp</th>\n",
       "    </tr>\n",
       "  </thead>\n",
       "  <tbody>\n",
       "    <tr>\n",
       "      <th>0</th>\n",
       "      <td>rolls-royce</td>\n",
       "      <td>ghost</td>\n",
       "      <td>2014</td>\n",
       "      <td>premium_unleaded_(required)</td>\n",
       "      <td>563.0</td>\n",
       "      <td>12.0</td>\n",
       "      <td>automatic</td>\n",
       "      <td>rear_wheel_drive</td>\n",
       "      <td>4.0</td>\n",
       "      <td>exotic,luxury,performance</td>\n",
       "      <td>large</td>\n",
       "      <td>sedan</td>\n",
       "      <td>21</td>\n",
       "      <td>13</td>\n",
       "      <td>86</td>\n",
       "      <td>303300</td>\n",
       "    </tr>\n",
       "    <tr>\n",
       "      <th>1</th>\n",
       "      <td>volkswagen</td>\n",
       "      <td>cc</td>\n",
       "      <td>2017</td>\n",
       "      <td>premium_unleaded_(recommended)</td>\n",
       "      <td>200.0</td>\n",
       "      <td>4.0</td>\n",
       "      <td>automated_manual</td>\n",
       "      <td>front_wheel_drive</td>\n",
       "      <td>4.0</td>\n",
       "      <td>performance</td>\n",
       "      <td>midsize</td>\n",
       "      <td>sedan</td>\n",
       "      <td>31</td>\n",
       "      <td>22</td>\n",
       "      <td>873</td>\n",
       "      <td>37820</td>\n",
       "    </tr>\n",
       "    <tr>\n",
       "      <th>2</th>\n",
       "      <td>chevrolet</td>\n",
       "      <td>colorado</td>\n",
       "      <td>2015</td>\n",
       "      <td>regular_unleaded</td>\n",
       "      <td>200.0</td>\n",
       "      <td>4.0</td>\n",
       "      <td>automatic</td>\n",
       "      <td>four_wheel_drive</td>\n",
       "      <td>4.0</td>\n",
       "      <td>0</td>\n",
       "      <td>compact</td>\n",
       "      <td>extended_cab_pickup</td>\n",
       "      <td>25</td>\n",
       "      <td>19</td>\n",
       "      <td>1385</td>\n",
       "      <td>26885</td>\n",
       "    </tr>\n",
       "    <tr>\n",
       "      <th>3</th>\n",
       "      <td>mercedes-benz</td>\n",
       "      <td>e-class</td>\n",
       "      <td>2017</td>\n",
       "      <td>premium_unleaded_(required)</td>\n",
       "      <td>241.0</td>\n",
       "      <td>4.0</td>\n",
       "      <td>automatic</td>\n",
       "      <td>all_wheel_drive</td>\n",
       "      <td>4.0</td>\n",
       "      <td>luxury</td>\n",
       "      <td>midsize</td>\n",
       "      <td>sedan</td>\n",
       "      <td>29</td>\n",
       "      <td>22</td>\n",
       "      <td>617</td>\n",
       "      <td>54650</td>\n",
       "    </tr>\n",
       "    <tr>\n",
       "      <th>4</th>\n",
       "      <td>ford</td>\n",
       "      <td>focus</td>\n",
       "      <td>2017</td>\n",
       "      <td>flex-fuel_(unleaded/e85)</td>\n",
       "      <td>160.0</td>\n",
       "      <td>4.0</td>\n",
       "      <td>manual</td>\n",
       "      <td>front_wheel_drive</td>\n",
       "      <td>4.0</td>\n",
       "      <td>flex_fuel</td>\n",
       "      <td>compact</td>\n",
       "      <td>sedan</td>\n",
       "      <td>36</td>\n",
       "      <td>26</td>\n",
       "      <td>5657</td>\n",
       "      <td>16775</td>\n",
       "    </tr>\n",
       "  </tbody>\n",
       "</table>\n",
       "</div>"
      ],
      "text/plain": [
       "            make     model  year                engine_fuel_type  engine_hp  \\\n",
       "0    rolls-royce     ghost  2014     premium_unleaded_(required)      563.0   \n",
       "1     volkswagen        cc  2017  premium_unleaded_(recommended)      200.0   \n",
       "2      chevrolet  colorado  2015                regular_unleaded      200.0   \n",
       "3  mercedes-benz   e-class  2017     premium_unleaded_(required)      241.0   \n",
       "4           ford     focus  2017        flex-fuel_(unleaded/e85)      160.0   \n",
       "\n",
       "   engine_cylinders transmission_type      driven_wheels  number_of_doors  \\\n",
       "0              12.0         automatic   rear_wheel_drive              4.0   \n",
       "1               4.0  automated_manual  front_wheel_drive              4.0   \n",
       "2               4.0         automatic   four_wheel_drive              4.0   \n",
       "3               4.0         automatic    all_wheel_drive              4.0   \n",
       "4               4.0            manual  front_wheel_drive              4.0   \n",
       "\n",
       "             market_category vehicle_size        vehicle_style  highway_mpg  \\\n",
       "0  exotic,luxury,performance        large                sedan           21   \n",
       "1                performance      midsize                sedan           31   \n",
       "2                          0      compact  extended_cab_pickup           25   \n",
       "3                     luxury      midsize                sedan           29   \n",
       "4                  flex_fuel      compact                sedan           36   \n",
       "\n",
       "   city_mpg  popularity    msrp  \n",
       "0        13          86  303300  \n",
       "1        22         873   37820  \n",
       "2        19        1385   26885  \n",
       "3        22         617   54650  \n",
       "4        26        5657   16775  "
      ]
     },
     "execution_count": 47,
     "metadata": {},
     "output_type": "execute_result"
    }
   ],
   "source": [
    "df_val.head()"
   ]
  },
  {
   "cell_type": "code",
   "execution_count": 48,
   "metadata": {},
   "outputs": [
    {
     "data": {
      "text/html": [
       "<div>\n",
       "<style scoped>\n",
       "    .dataframe tbody tr th:only-of-type {\n",
       "        vertical-align: middle;\n",
       "    }\n",
       "\n",
       "    .dataframe tbody tr th {\n",
       "        vertical-align: top;\n",
       "    }\n",
       "\n",
       "    .dataframe thead th {\n",
       "        text-align: right;\n",
       "    }\n",
       "</style>\n",
       "<table border=\"1\" class=\"dataframe\">\n",
       "  <thead>\n",
       "    <tr style=\"text-align: right;\">\n",
       "      <th></th>\n",
       "      <th>make</th>\n",
       "      <th>model</th>\n",
       "      <th>year</th>\n",
       "      <th>engine_fuel_type</th>\n",
       "      <th>engine_hp</th>\n",
       "      <th>engine_cylinders</th>\n",
       "      <th>transmission_type</th>\n",
       "      <th>driven_wheels</th>\n",
       "      <th>number_of_doors</th>\n",
       "      <th>market_category</th>\n",
       "      <th>vehicle_size</th>\n",
       "      <th>vehicle_style</th>\n",
       "      <th>highway_mpg</th>\n",
       "      <th>city_mpg</th>\n",
       "      <th>popularity</th>\n",
       "      <th>msrp</th>\n",
       "    </tr>\n",
       "  </thead>\n",
       "  <tbody>\n",
       "    <tr>\n",
       "      <th>0</th>\n",
       "      <td>mitsubishi</td>\n",
       "      <td>lancer</td>\n",
       "      <td>2016</td>\n",
       "      <td>regular_unleaded</td>\n",
       "      <td>148.0</td>\n",
       "      <td>4.0</td>\n",
       "      <td>manual</td>\n",
       "      <td>front_wheel_drive</td>\n",
       "      <td>4.0</td>\n",
       "      <td>0</td>\n",
       "      <td>compact</td>\n",
       "      <td>sedan</td>\n",
       "      <td>34</td>\n",
       "      <td>24</td>\n",
       "      <td>436</td>\n",
       "      <td>17595</td>\n",
       "    </tr>\n",
       "    <tr>\n",
       "      <th>1</th>\n",
       "      <td>kia</td>\n",
       "      <td>sorento</td>\n",
       "      <td>2015</td>\n",
       "      <td>regular_unleaded</td>\n",
       "      <td>290.0</td>\n",
       "      <td>6.0</td>\n",
       "      <td>automatic</td>\n",
       "      <td>front_wheel_drive</td>\n",
       "      <td>4.0</td>\n",
       "      <td>crossover</td>\n",
       "      <td>midsize</td>\n",
       "      <td>4dr_suv</td>\n",
       "      <td>25</td>\n",
       "      <td>18</td>\n",
       "      <td>1720</td>\n",
       "      <td>26700</td>\n",
       "    </tr>\n",
       "    <tr>\n",
       "      <th>2</th>\n",
       "      <td>gmc</td>\n",
       "      <td>vandura</td>\n",
       "      <td>1994</td>\n",
       "      <td>regular_unleaded</td>\n",
       "      <td>165.0</td>\n",
       "      <td>6.0</td>\n",
       "      <td>automatic</td>\n",
       "      <td>rear_wheel_drive</td>\n",
       "      <td>3.0</td>\n",
       "      <td>0</td>\n",
       "      <td>compact</td>\n",
       "      <td>cargo_van</td>\n",
       "      <td>20</td>\n",
       "      <td>15</td>\n",
       "      <td>549</td>\n",
       "      <td>2000</td>\n",
       "    </tr>\n",
       "    <tr>\n",
       "      <th>3</th>\n",
       "      <td>mercedes-benz</td>\n",
       "      <td>600-class</td>\n",
       "      <td>1993</td>\n",
       "      <td>regular_unleaded</td>\n",
       "      <td>389.0</td>\n",
       "      <td>12.0</td>\n",
       "      <td>automatic</td>\n",
       "      <td>rear_wheel_drive</td>\n",
       "      <td>2.0</td>\n",
       "      <td>luxury</td>\n",
       "      <td>large</td>\n",
       "      <td>coupe</td>\n",
       "      <td>15</td>\n",
       "      <td>11</td>\n",
       "      <td>617</td>\n",
       "      <td>3211</td>\n",
       "    </tr>\n",
       "    <tr>\n",
       "      <th>4</th>\n",
       "      <td>toyota</td>\n",
       "      <td>venza</td>\n",
       "      <td>2013</td>\n",
       "      <td>regular_unleaded</td>\n",
       "      <td>268.0</td>\n",
       "      <td>6.0</td>\n",
       "      <td>automatic</td>\n",
       "      <td>all_wheel_drive</td>\n",
       "      <td>4.0</td>\n",
       "      <td>crossover,performance</td>\n",
       "      <td>midsize</td>\n",
       "      <td>wagon</td>\n",
       "      <td>25</td>\n",
       "      <td>18</td>\n",
       "      <td>2031</td>\n",
       "      <td>31120</td>\n",
       "    </tr>\n",
       "  </tbody>\n",
       "</table>\n",
       "</div>"
      ],
      "text/plain": [
       "            make      model  year  engine_fuel_type  engine_hp  \\\n",
       "0     mitsubishi     lancer  2016  regular_unleaded      148.0   \n",
       "1            kia    sorento  2015  regular_unleaded      290.0   \n",
       "2            gmc    vandura  1994  regular_unleaded      165.0   \n",
       "3  mercedes-benz  600-class  1993  regular_unleaded      389.0   \n",
       "4         toyota      venza  2013  regular_unleaded      268.0   \n",
       "\n",
       "   engine_cylinders transmission_type      driven_wheels  number_of_doors  \\\n",
       "0               4.0            manual  front_wheel_drive              4.0   \n",
       "1               6.0         automatic  front_wheel_drive              4.0   \n",
       "2               6.0         automatic   rear_wheel_drive              3.0   \n",
       "3              12.0         automatic   rear_wheel_drive              2.0   \n",
       "4               6.0         automatic    all_wheel_drive              4.0   \n",
       "\n",
       "         market_category vehicle_size vehicle_style  highway_mpg  city_mpg  \\\n",
       "0                      0      compact         sedan           34        24   \n",
       "1              crossover      midsize       4dr_suv           25        18   \n",
       "2                      0      compact     cargo_van           20        15   \n",
       "3                 luxury        large         coupe           15        11   \n",
       "4  crossover,performance      midsize         wagon           25        18   \n",
       "\n",
       "   popularity   msrp  \n",
       "0         436  17595  \n",
       "1        1720  26700  \n",
       "2         549   2000  \n",
       "3         617   3211  \n",
       "4        2031  31120  "
      ]
     },
     "execution_count": 48,
     "metadata": {},
     "output_type": "execute_result"
    }
   ],
   "source": [
    "df_test.head()"
   ]
  },
  {
   "cell_type": "code",
   "execution_count": null,
   "metadata": {},
   "outputs": [],
   "source": [
    "# Set the tartget variable for training and validation sets\n",
    "\n",
    "y_train = df_train['msrp'].values\n",
    "y_val = df_val['msrp'].values\n",
    "y_test = df_test['msrp'].values\n",
    "\n",
    "#Transform the target variable using log transformation\n",
    "y_train = np.log1p(y_train)\n",
    "y_val = np.log1p(y_val)\n",
    "y_test = np.log1p(y_test)"
   ]
  },
  {
   "cell_type": "code",
   "execution_count": 50,
   "metadata": {},
   "outputs": [],
   "source": [
    "# Remove the target variable from the training and validation sets\n",
    "del df_train['msrp']\n",
    "del df_val['msrp']\n",
    "del df_test['msrp']\n",
    "\n"
   ]
  },
  {
   "cell_type": "code",
   "execution_count": 51,
   "metadata": {},
   "outputs": [
    {
     "data": {
      "text/plain": [
       "(Index(['make', 'model', 'year', 'engine_fuel_type', 'engine_hp',\n",
       "        'engine_cylinders', 'transmission_type', 'driven_wheels',\n",
       "        'number_of_doors', 'market_category', 'vehicle_size', 'vehicle_style',\n",
       "        'highway_mpg', 'city_mpg', 'popularity'],\n",
       "       dtype='object'),\n",
       " Index(['make', 'model', 'year', 'engine_fuel_type', 'engine_hp',\n",
       "        'engine_cylinders', 'transmission_type', 'driven_wheels',\n",
       "        'number_of_doors', 'market_category', 'vehicle_size', 'vehicle_style',\n",
       "        'highway_mpg', 'city_mpg', 'popularity'],\n",
       "       dtype='object'),\n",
       " Index(['make', 'model', 'year', 'engine_fuel_type', 'engine_hp',\n",
       "        'engine_cylinders', 'transmission_type', 'driven_wheels',\n",
       "        'number_of_doors', 'market_category', 'vehicle_size', 'vehicle_style',\n",
       "        'highway_mpg', 'city_mpg', 'popularity'],\n",
       "       dtype='object'))"
      ]
     },
     "execution_count": 51,
     "metadata": {},
     "output_type": "execute_result"
    }
   ],
   "source": [
    "(df_train.columns,df_val.columns,df_test.columns)"
   ]
  },
  {
   "cell_type": "markdown",
   "metadata": {},
   "source": [
    "np.random.seed(2)\n",
    "\n",
    "n = len(df)\n",
    "\n",
    "n_val = int(0.2 * n)\n",
    "n_test = int(0.2 * n)\n",
    "n_train = n - (n_val + n_test)\n",
    "\n",
    "# creates list of indices and shuffles them\n",
    "idx = np.arange(n)\n",
    "np.random.shuffle(idx)\n",
    "\n",
    "# shuffled dataframe\n",
    "df_shuffled = df.iloc[idx]\n",
    "\n",
    "# splitting the dataframe into our train/val/test splits\n",
    "\n",
    "df_train = df_shuffled.iloc[:n_train].copy()\n",
    "\n",
    "df_val = df_shuffled.iloc[n_train:n_train+n_val].copy()\n",
    "\n",
    "df_test = df_shuffled.iloc[n_train+n_val:].copy()"
   ]
  },
  {
   "cell_type": "markdown",
   "metadata": {},
   "source": [
    "# obtain the feature we want to work with (MSRP) and transform it\n",
    "y_train_orig = df_train.msrp.values\n",
    "y_val_orig = df_val.msrp.values\n",
    "y_test_orig = df_test.msrp.values\n",
    "\n",
    "y_train = np.log1p(df_train.msrp.values)\n",
    "y_val = np.log1p(df_val.msrp.values)\n",
    "y_test = np.log1p(df_test.msrp.values)\n",
    "\n",
    "# we remove the extracted feature from the dataset because we will use the other features for training and we don't want to accidentally use our target feature for training.\n",
    "del df_train['msrp']\n",
    "del df_val['msrp']\n",
    "del df_test['msrp']"
   ]
  },
  {
   "cell_type": "markdown",
   "metadata": {},
   "source": [
    "## Linear Regression"
   ]
  },
  {
   "cell_type": "code",
   "execution_count": 52,
   "metadata": {},
   "outputs": [
    {
     "data": {
      "text/plain": [
       "make                                 rolls-royce\n",
       "model                     phantom_drophead_coupe\n",
       "year                                        2015\n",
       "engine_fuel_type     premium_unleaded_(required)\n",
       "engine_hp                                  453.0\n",
       "engine_cylinders                            12.0\n",
       "transmission_type                      automatic\n",
       "driven_wheels                   rear_wheel_drive\n",
       "number_of_doors                              2.0\n",
       "market_category        exotic,luxury,performance\n",
       "vehicle_size                               large\n",
       "vehicle_style                        convertible\n",
       "highway_mpg                                   19\n",
       "city_mpg                                      11\n",
       "popularity                                    86\n",
       "Name: 10, dtype: object"
      ]
     },
     "execution_count": 52,
     "metadata": {},
     "output_type": "execute_result"
    }
   ],
   "source": [
    "df_train.iloc[10]"
   ]
  },
  {
   "cell_type": "code",
   "execution_count": 53,
   "metadata": {},
   "outputs": [],
   "source": [
    "def train_linear_regression(X, y):\n",
    "    ones = np.ones(X.shape[0])\n",
    "    X = np.column_stack([ones, X])\n",
    "\n",
    "    XTX = X.T.dot(X)\n",
    "    XTX_inv = np.linalg.inv(XTX)\n",
    "    w = XTX_inv.dot(X.T).dot(y)\n",
    "    \n",
    "    # we return the bias term and the weights separately\n",
    "    return w[0], w[1:]"
   ]
  },
  {
   "cell_type": "markdown",
   "metadata": {},
   "source": [
    "## Baseline solution"
   ]
  },
  {
   "cell_type": "code",
   "execution_count": 54,
   "metadata": {},
   "outputs": [],
   "source": [
    "base = ['engine_hp', 'engine_cylinders', 'highway_mpg', 'city_mpg', 'popularity']"
   ]
  },
  {
   "cell_type": "code",
   "execution_count": 55,
   "metadata": {},
   "outputs": [],
   "source": [
    "def prepare_X(df):\n",
    "    \n",
    "    df_num = df[base]\n",
    "    df_num = df_num.fillna(0)\n",
    "    X = df_num.values\n",
    "    return X"
   ]
  },
  {
   "cell_type": "code",
   "execution_count": 56,
   "metadata": {},
   "outputs": [
    {
     "data": {
      "text/plain": [
       "array([ 9.5479597 ,  9.38746219,  9.67184806,  8.65471955, 10.86586728])"
      ]
     },
     "execution_count": 56,
     "metadata": {},
     "output_type": "execute_result"
    }
   ],
   "source": [
    "# Prepare the training data\n",
    "X_train = prepare_X(df_train)\n",
    "# Train the linear regression model\n",
    "w_0, w = train_linear_regression(X_train, y_train)\n",
    "# Make predictions on the training set\n",
    "# y_pred = w_0 + X_train.dot(w) --- IGNORE ---\n",
    "# Display the first 5 predictions\n",
    "y_pred = w_0 + X_train.dot(w)\n",
    "(y_pred[:5])"
   ]
  },
  {
   "cell_type": "code",
   "execution_count": 59,
   "metadata": {},
   "outputs": [
    {
     "data": {
      "image/png": "[encoded data removed]",
      "text/plain": [
       "<Figure size 600x400 with 1 Axes>"
      ]
     },
     "metadata": {},
     "output_type": "display_data"
    }
   ],
   "source": [
    "plt.figure(figsize=(6, 4))\n",
    "\n",
    "sns.histplot(y_train, label='target', color=\"#1FDA67\", alpha=0.6, bins=40)\n",
    "sns.histplot(y_pred, label='prediction', color=\"#224c3d\", alpha=0.8, bins=40)\n",
    "\n",
    "plt.legend()\n",
    "\n",
    "plt.ylabel('Frequency')\n",
    "plt.xlabel('Log(Price + 1)')\n",
    "#plt.xlim(0.0, 0.5E+6) \n",
    "#plt.ylim(0.0,2000) \n",
    "plt.title('Predictions vs actual distribution')\n",
    "\n",
    "plt.show()"
   ]
  },
  {
   "cell_type": "code",
   "execution_count": 60,
   "metadata": {},
   "outputs": [],
   "source": [
    "#Evaluation matric\n",
    "\n",
    "def rmse(y, pred):\n",
    "    error = pred - y\n",
    "    mse = (error ** 2).mean()\n",
    "    return np.sqrt(mse)"
   ]
  },
  {
   "cell_type": "code",
   "execution_count": 61,
   "metadata": {},
   "outputs": [
    {
     "data": {
      "text/plain": [
       "array([12.12286371, 10.05432069,  9.77282776, 10.29333843,  9.88799484])"
      ]
     },
     "execution_count": 61,
     "metadata": {},
     "output_type": "execute_result"
    }
   ],
   "source": [
    "# Prepare the validation data\n",
    "X_val = prepare_X(df_val)\n",
    "# Train the linear regression model\n",
    "w_0, w = train_linear_regression(X_val, y_val)\n",
    "# Make predictions on the training set\n",
    "# y_pred = w_0 + X_train.dot(w) --- IGNORE ---\n",
    "# Display the first 5 predictions\n",
    "y_pred_val = w_0 + X_val.dot(w)\n",
    "(y_pred_val[:5])\n"
   ]
  },
  {
   "cell_type": "code",
   "execution_count": 62,
   "metadata": {},
   "outputs": [
    {
     "data": {
      "text/plain": [
       "(2382,)"
      ]
     },
     "execution_count": 62,
     "metadata": {},
     "output_type": "execute_result"
    }
   ],
   "source": [
    "y_pred_val.shape\n",
    "#y_val.shape"
   ]
  },
  {
   "cell_type": "code",
   "execution_count": 63,
   "metadata": {},
   "outputs": [
    {
     "name": "stdout",
     "output_type": "stream",
     "text": [
      "RMSE train 0.7554591756909307\n",
      "RMSE validation 0.751127926574924\n"
     ]
    }
   ],
   "source": [
    "# Evaluating the model:\n",
    "\n",
    "print('RMSE train', rmse(y_train, y_pred))\n",
    "\n",
    "\n",
    "print('RMSE validation', rmse(y_val, y_pred_val))"
   ]
  },
  {
   "cell_type": "markdown",
   "metadata": {},
   "source": [
    "## Simple feature engineering"
   ]
  },
  {
   "cell_type": "code",
   "execution_count": 64,
   "metadata": {},
   "outputs": [],
   "source": [
    "def prepare_X(df):\n",
    "    df = df.copy() # create a copy to avoid modifying the original dataframe\n",
    "    df = df.fillna(0)\n",
    "    features = base.copy()\n",
    "    #New feature : age of the car\n",
    "    df['age'] = df['year'].max() - df.year\n",
    "    # Append the new feature to the list of features\n",
    "    features.append('age')\n",
    "    \n",
    "\n",
    "    df_num = df[features]\n",
    "    df_num = df_num.fillna(0)\n",
    "    X = df_num.values\n",
    "    return X"
   ]
  },
  {
   "cell_type": "code",
   "execution_count": 67,
   "metadata": {},
   "outputs": [
    {
     "name": "stdout",
     "output_type": "stream",
     "text": [
      "RMSE train 0.5175461085504556\n",
      "RMSE validation 0.5152472240395481\n"
     ]
    }
   ],
   "source": [
    "X_train = prepare_X(df_train)\n",
    "w_0, w = train_linear_regression(X_train, y_train)\n",
    "y_pred = w_0 + X_train.dot(w)\n",
    "\n",
    "print('RMSE train', rmse(y_train, y_pred))\n",
    "\n",
    "X_val = prepare_X(df_val)\n",
    "w_0, w = train_linear_regression(X_val, y_val)\n",
    "y_pred_val = w_0 + X_val.dot(w)\n",
    "print('RMSE validation', rmse(y_val, y_pred_val))"
   ]
  },
  {
   "cell_type": "code",
   "execution_count": 77,
   "metadata": {},
   "outputs": [
    {
     "data": {
      "image/png": "[encoded data removed]",
      "text/plain": [
       "<Figure size 600x400 with 1 Axes>"
      ]
     },
     "metadata": {},
     "output_type": "display_data"
    }
   ],
   "source": [
    "plt.figure(figsize=(6, 4))\n",
    "\n",
    "\n",
    "sns.histplot(y_val, label='target', color=\"#FA0707\", alpha=0.6, bins=40)\n",
    "sns.histplot(y_pred, label='prediction', color=\"#e1f4ee\", alpha=0.8, bins=40)\n",
    "\n",
    "plt.legend()\n",
    "\n",
    "plt.ylabel('Frequency')\n",
    "plt.xlabel('Log(Price + 1)')\n",
    "#plt.xlim(0.0, 0.2E+6) \n",
    "#plt.ylim(0.0,900) \n",
    "plt.title('Predictions vs actual distribution')\n",
    "\n",
    "plt.show()"
   ]
  },
  {
   "cell_type": "code",
   "execution_count": 78,
   "metadata": {},
   "outputs": [
    {
     "data": {
      "text/plain": [
       "make\n",
       "chevrolet     1123\n",
       "ford           881\n",
       "volkswagen     809\n",
       "toyota         746\n",
       "dodge          626\n",
       "Name: count, dtype: int64"
      ]
     },
     "execution_count": 78,
     "metadata": {},
     "output_type": "execute_result"
    }
   ],
   "source": [
    "df['make'].value_counts().head()"
   ]
  },
  {
   "cell_type": "code",
   "execution_count": 79,
   "metadata": {},
   "outputs": [
    {
     "data": {
      "text/plain": [
       "number_of_doors\n",
       "4.0    8353\n",
       "2.0    3160\n",
       "3.0     395\n",
       "0.0       6\n",
       "Name: count, dtype: int64"
      ]
     },
     "execution_count": 79,
     "metadata": {},
     "output_type": "execute_result"
    }
   ],
   "source": [
    "df['number_of_doors'].value_counts()\n"
   ]
  },
  {
   "cell_type": "code",
   "execution_count": 80,
   "metadata": {},
   "outputs": [
    {
     "name": "stdout",
     "output_type": "stream",
     "text": [
      "            make  number_of_doors  count\n",
      "0          acura              2.0     48\n",
      "1          acura              4.0    204\n",
      "2     alfa_romeo              2.0      5\n",
      "3   aston_martin              2.0     86\n",
      "4   aston_martin              4.0      7\n",
      "..           ...              ...    ...\n",
      "94    volkswagen              2.0    306\n",
      "95    volkswagen              3.0     17\n",
      "96    volkswagen              4.0    486\n",
      "97         volvo              2.0     12\n",
      "98         volvo              4.0    269\n",
      "\n",
      "[99 rows x 3 columns]\n"
     ]
    }
   ],
   "source": [
    "counts = df.groupby(['make', 'number_of_doors']).size().reset_index(name='count')\n",
    "print(counts)"
   ]
  },
  {
   "cell_type": "markdown",
   "metadata": {},
   "source": [
    "# Ploting correlation matrix"
   ]
  },
  {
   "cell_type": "code",
   "execution_count": 81,
   "metadata": {},
   "outputs": [],
   "source": [
    "\n",
    "df_numerical = df.select_dtypes(include='number')\n",
    "df_numerical['age'] = df['year'].max() - df['year']\n",
    "correlation_matrix  = df_numerical.corr()\n"
   ]
  },
  {
   "cell_type": "code",
   "execution_count": 82,
   "metadata": {},
   "outputs": [
    {
     "data": {
      "image/png": "[encoded data removed]",
      "text/plain": [
       "<Figure size 1000x800 with 2 Axes>"
      ]
     },
     "metadata": {},
     "output_type": "display_data"
    }
   ],
   "source": [
    "\n",
    "plt.figure(figsize=(10, 8)) # Adjust figure size as needed\n",
    "sns.heatmap(correlation_matrix, annot=True, cmap='coolwarm', fmt=\".2f\", linewidths=.5)\n",
    "plt.title('Correlation Matrix Heatmap')\n",
    "plt.show()"
   ]
  },
  {
   "cell_type": "code",
   "execution_count": 83,
   "metadata": {},
   "outputs": [],
   "source": [
    "def prepare_X(df):\n",
    "    df = df.copy()\n",
    "    features = base.copy()\n",
    "\n",
    "    df['age'] = df['year'].max() - df.year\n",
    "    features.append('age')\n",
    "\n",
    "    for v in [2, 3, 4]:\n",
    "        feature = 'num_doors_%s' % v\n",
    "        df[feature] = (df['number_of_doors'] == v).astype(int)\n",
    "        features.append(feature)\n",
    "\n",
    "    for v in ['chevrolet', 'ford', 'volkswagen', 'toyota', 'dodge']:\n",
    "        feature = 'is_make_%s' % v\n",
    "        df[feature] = (df['make'] == v).astype(int)\n",
    "        features.append(feature)\n",
    "\n",
    "    df_num = df[features]\n",
    "    df_num = df_num.fillna(0)\n",
    "    X = df_num.values\n",
    "    \n",
    "    return X"
   ]
  },
  {
   "cell_type": "code",
   "execution_count": 84,
   "metadata": {},
   "outputs": [
    {
     "name": "stdout",
     "output_type": "stream",
     "text": [
      "train: 0.505930401897355\n",
      "validation: 0.5074572881972271\n"
     ]
    }
   ],
   "source": [
    "X_train = prepare_X(df_train)\n",
    "w_0, w = train_linear_regression(X_train, y_train)\n",
    "\n",
    "y_pred = w_0 + X_train.dot(w)\n",
    "print('train:', rmse(y_train, y_pred))\n",
    "\n",
    "X_val = prepare_X(df_val)\n",
    "y_pred = w_0 + X_val.dot(w)\n",
    "print('validation:', rmse(y_val, y_pred))"
   ]
  },
  {
   "cell_type": "code",
   "execution_count": 86,
   "metadata": {},
   "outputs": [
    {
     "data": {
      "image/png": "[encoded data removed]",
      "text/plain": [
       "<Figure size 640x480 with 1 Axes>"
      ]
     },
     "metadata": {},
     "output_type": "display_data"
    }
   ],
   "source": [
    "sns.histplot(y_val, label='target', color=\"#FD0B0BFF\", alpha=0.6, bins=40)\n",
    "sns.histplot(y_pred, label='prediction', color=\"#868fdf19\", alpha=0.8, bins=40)\n",
    "\n",
    "plt.legend()\n",
    "\n",
    "plt.ylabel('Frequency')\n",
    "plt.xlabel('Log(Price + 1)')\n",
    "\n",
    "plt.title('Predictions vs actual distribution')\n",
    "\n",
    "plt.show()"
   ]
  },
  {
   "cell_type": "code",
   "execution_count": 87,
   "metadata": {},
   "outputs": [
    {
     "data": {
      "text/plain": [
       "engine_fuel_type\n",
       "regular_unleaded                                7172\n",
       "premium_unleaded_(required)                     2009\n",
       "premium_unleaded_(recommended)                  1523\n",
       "flex-fuel_(unleaded/e85)                         899\n",
       "diesel                                           154\n",
       "electric                                          66\n",
       "flex-fuel_(premium_unleaded_required/e85)         54\n",
       "flex-fuel_(premium_unleaded_recommended/e85)      26\n",
       "flex-fuel_(unleaded/natural_gas)                   6\n",
       "0                                                  3\n",
       "natural_gas                                        2\n",
       "Name: count, dtype: int64"
      ]
     },
     "execution_count": 87,
     "metadata": {},
     "output_type": "execute_result"
    }
   ],
   "source": [
    "df['engine_fuel_type'].value_counts()"
   ]
  },
  {
   "cell_type": "code",
   "execution_count": 88,
   "metadata": {},
   "outputs": [],
   "source": [
    "def prepare_X(df):\n",
    "    df = df.copy()\n",
    "    features = base.copy()\n",
    "\n",
    "    df['age'] = 2017 - df.year\n",
    "    features.append('age')\n",
    "    \n",
    "    for v in [2, 3, 4]:\n",
    "        feature = 'num_doors_%s' % v\n",
    "        df[feature] = (df['number_of_doors'] == v).astype(int)\n",
    "        features.append(feature)\n",
    "\n",
    "    for v in ['chevrolet', 'ford', 'volkswagen', 'toyota', 'dodge']:\n",
    "        feature = 'is_make_%s' % v\n",
    "        df[feature] = (df['make'] == v).astype(int)\n",
    "        features.append(feature)\n",
    "\n",
    "    for v in ['regular_unleaded', 'premium_unleaded_(required)', \n",
    "              'premium_unleaded_(recommended)', 'flex-fuel_(unleaded/e85)']:\n",
    "        feature = 'is_type_%s' % v\n",
    "        df[feature] = (df['engine_fuel_type'] == v).astype(int)\n",
    "        features.append(feature)\n",
    "        \n",
    "    df_num = df[features]\n",
    "    df_num = df_num.fillna(0)\n",
    "    X = df_num.values\n",
    "    return X"
   ]
  },
  {
   "cell_type": "code",
   "execution_count": 89,
   "metadata": {},
   "outputs": [
    {
     "name": "stdout",
     "output_type": "stream",
     "text": [
      "train: 0.4789034925604403\n",
      "validation: 0.4747016023881793\n"
     ]
    }
   ],
   "source": [
    "X_train = prepare_X(df_train)\n",
    "w_0, w = train_linear_regression(X_train, y_train)\n",
    "\n",
    "y_pred = w_0 + X_train.dot(w)\n",
    "print('train:', rmse(y_train, y_pred))\n",
    "\n",
    "X_val = prepare_X(df_val)\n",
    "y_pred = w_0 + X_val.dot(w)\n",
    "print('validation:', rmse(y_val, y_pred))"
   ]
  },
  {
   "cell_type": "code",
   "execution_count": 91,
   "metadata": {},
   "outputs": [
    {
     "data": {
      "image/png": "[encoded data removed]",
      "text/plain": [
       "<Figure size 640x480 with 1 Axes>"
      ]
     },
     "metadata": {},
     "output_type": "display_data"
    }
   ],
   "source": [
    "\n",
    "\n",
    "sns.histplot(y_val, label='target', color=\"#FD0B0BFF\", alpha=0.6, bins=40)\n",
    "sns.histplot(y_pred, label='prediction', color=\"#868fdf19\", alpha=0.8, bins=40)\n",
    "\n",
    "plt.legend()\n",
    "\n",
    "plt.ylabel('Frequency')\n",
    "plt.xlabel('Log(Price + 1)')\n",
    "plt.title('Predictions vs actual distribution')\n",
    "\n",
    "plt.show()"
   ]
  },
  {
   "cell_type": "code",
   "execution_count": 92,
   "metadata": {},
   "outputs": [
    {
     "data": {
      "text/plain": [
       "transmission_type\n",
       "automatic           8266\n",
       "manual              2935\n",
       "automated_manual     626\n",
       "direct_drive          68\n",
       "unknown               19\n",
       "Name: count, dtype: int64"
      ]
     },
     "execution_count": 92,
     "metadata": {},
     "output_type": "execute_result"
    }
   ],
   "source": [
    "df['transmission_type'].value_counts()"
   ]
  },
  {
   "cell_type": "code",
   "execution_count": 93,
   "metadata": {},
   "outputs": [],
   "source": [
    "def prepare_X(df):\n",
    "    df = df.copy()\n",
    "    features = base.copy()\n",
    "\n",
    "    df['age'] = 2017 - df.year\n",
    "    features.append('age')\n",
    "    \n",
    "    for v in [2, 3, 4]:\n",
    "        feature = 'num_doors_%s' % v\n",
    "        df[feature] = (df['number_of_doors'] == v).astype(int)\n",
    "        features.append(feature)\n",
    "\n",
    "    for v in ['chevrolet', 'ford', 'volkswagen', 'toyota', 'dodge']:\n",
    "        feature = 'is_make_%s' % v\n",
    "        df[feature] = (df['make'] == v).astype(int)\n",
    "        features.append(feature)\n",
    "\n",
    "    for v in ['regular_unleaded', 'premium_unleaded_(required)', \n",
    "              'premium_unleaded_(recommended)', 'flex-fuel_(unleaded/e85)']:\n",
    "        feature = 'is_type_%s' % v\n",
    "        df[feature] = (df['engine_fuel_type'] == v).astype(int)\n",
    "        features.append(feature)\n",
    "\n",
    "    for v in ['automatic', 'manual', 'automated_manual']:\n",
    "        feature = 'is_transmission_%s' % v\n",
    "        df[feature] = (df['transmission_type'] == v).astype(int)\n",
    "        features.append(feature)\n",
    "        \n",
    "    df_num = df[features]\n",
    "    df_num = df_num.fillna(0)\n",
    "    X = df_num.values\n",
    "    return X"
   ]
  },
  {
   "cell_type": "code",
   "execution_count": 94,
   "metadata": {},
   "outputs": [
    {
     "name": "stdout",
     "output_type": "stream",
     "text": [
      "train: 0.47458621955744734\n",
      "validation: 0.46852436732541114\n"
     ]
    }
   ],
   "source": [
    "X_train = prepare_X(df_train)\n",
    "w_0, w = train_linear_regression(X_train, y_train)\n",
    "\n",
    "y_pred = w_0 + X_train.dot(w)\n",
    "print('train:', rmse(y_train, y_pred))\n",
    "\n",
    "X_val = prepare_X(df_val)\n",
    "y_pred = w_0 + X_val.dot(w)\n",
    "print('validation:', rmse(y_val, y_pred))"
   ]
  },
  {
   "cell_type": "code",
   "execution_count": 95,
   "metadata": {},
   "outputs": [
    {
     "data": {
      "image/png": "[encoded data removed]",
      "text/plain": [
       "<Figure size 640x480 with 1 Axes>"
      ]
     },
     "metadata": {},
     "output_type": "display_data"
    }
   ],
   "source": [
    "\n",
    "\n",
    "sns.histplot(y_val, label='target', color=\"#FD0B0BFF\", alpha=0.6, bins=40)\n",
    "sns.histplot(y_pred, label='prediction', color=\"#868fdf19\", alpha=0.8, bins=40)\n",
    "\n",
    "plt.legend()\n",
    "\n",
    "plt.ylabel('Frequency')\n",
    "plt.xlabel('Log(Price + 1)')\n",
    "\n",
    "plt.title('Predictions vs actual distribution')\n",
    "\n",
    "plt.show()"
   ]
  },
  {
   "cell_type": "code",
   "execution_count": 96,
   "metadata": {},
   "outputs": [
    {
     "data": {
      "text/plain": [
       "driven_wheels\n",
       "front_wheel_drive    4787\n",
       "rear_wheel_drive     3371\n",
       "all_wheel_drive      2353\n",
       "four_wheel_drive     1403\n",
       "Name: count, dtype: int64"
      ]
     },
     "execution_count": 96,
     "metadata": {},
     "output_type": "execute_result"
    }
   ],
   "source": [
    "df['driven_wheels'].value_counts()"
   ]
  },
  {
   "cell_type": "code",
   "execution_count": 97,
   "metadata": {},
   "outputs": [
    {
     "data": {
      "text/plain": [
       "market_category\n",
       "0                     3742\n",
       "crossover             1110\n",
       "flex_fuel              872\n",
       "luxury                 855\n",
       "luxury,performance     673\n",
       "Name: count, dtype: int64"
      ]
     },
     "execution_count": 97,
     "metadata": {},
     "output_type": "execute_result"
    }
   ],
   "source": [
    "df['market_category'].value_counts().head(5)"
   ]
  },
  {
   "cell_type": "code",
   "execution_count": 98,
   "metadata": {},
   "outputs": [
    {
     "data": {
      "text/plain": [
       "vehicle_size\n",
       "compact    4764\n",
       "midsize    4373\n",
       "large      2777\n",
       "Name: count, dtype: int64"
      ]
     },
     "execution_count": 98,
     "metadata": {},
     "output_type": "execute_result"
    }
   ],
   "source": [
    "df['vehicle_size'].value_counts().head(5)"
   ]
  },
  {
   "cell_type": "code",
   "execution_count": 99,
   "metadata": {},
   "outputs": [
    {
     "data": {
      "text/plain": [
       "pandas.core.series.Series"
      ]
     },
     "execution_count": 99,
     "metadata": {},
     "output_type": "execute_result"
    }
   ],
   "source": [
    "type(df['vehicle_style'].value_counts())"
   ]
  },
  {
   "cell_type": "code",
   "execution_count": 100,
   "metadata": {},
   "outputs": [],
   "source": [
    "def prepare_X(df):\n",
    "    df = df.copy()\n",
    "    features = base.copy()\n",
    "\n",
    "    df['age'] = 2017 - df.year\n",
    "    features.append('age')\n",
    "    \n",
    "    for v in [2, 3, 4]:\n",
    "        feature = 'num_doors_%s' % v\n",
    "        df[feature] = (df['number_of_doors'] == v).astype(int)\n",
    "        features.append(feature)\n",
    "\n",
    "    for v in ['chevrolet', 'ford', 'volkswagen', 'toyota', 'dodge']:\n",
    "        feature = 'is_make_%s' % v\n",
    "        df[feature] = (df['make'] == v).astype(int)\n",
    "        features.append(feature)\n",
    "\n",
    "    for v in ['regular_unleaded', 'premium_unleaded_(required)', \n",
    "              'premium_unleaded_(recommended)', 'flex-fuel_(unleaded/e85)']:\n",
    "        feature = 'is_type_%s' % v\n",
    "        df[feature] = (df['engine_fuel_type'] == v).astype(int)\n",
    "        features.append(feature)\n",
    "\n",
    "    for v in ['automatic', 'manual', 'automated_manual']:\n",
    "        feature = 'is_transmission_%s' % v\n",
    "        df[feature] = (df['transmission_type'] == v).astype(int)\n",
    "        features.append(feature)\n",
    "\n",
    "    for v in ['front_wheel_drive', 'rear_wheel_drive', 'all_wheel_drive', 'four_wheel_drive']:\n",
    "        feature = 'is_driven_wheens_%s' % v\n",
    "        df[feature] = (df['driven_wheels'] == v).astype(int)\n",
    "        features.append(feature)\n",
    "\n",
    "    for v in ['crossover', 'flex_fuel', 'luxury', 'luxury,performance', 'hatchback']:\n",
    "        feature = 'is_mc_%s' % v\n",
    "        df[feature] = (df['market_category'] == v).astype(int)\n",
    "        features.append(feature)\n",
    "\n",
    "    for v in ['compact', 'midsize', 'large']:\n",
    "        feature = 'is_size_%s' % v\n",
    "        df[feature] = (df['vehicle_size'] == v).astype(int)\n",
    "        features.append(feature)\n",
    "\n",
    "    for v in ['sedan', '4dr_suv', 'coupe', 'convertible', '4dr_hatchback']:\n",
    "        feature = 'is_style_%s' % v\n",
    "        df[feature] = (df['vehicle_style'] == v).astype(int)\n",
    "        features.append(feature)\n",
    "\n",
    "    df_num = df[features]\n",
    "    df_num = df_num.fillna(0)\n",
    "    X = df_num.values\n",
    "    return X"
   ]
  },
  {
   "cell_type": "code",
   "execution_count": 101,
   "metadata": {},
   "outputs": [
    {
     "name": "stdout",
     "output_type": "stream",
     "text": [
      "m_1\n",
      "m_2\n",
      "m_3\n",
      "l_4\n",
      "l_5\n",
      "l_6\n"
     ]
    }
   ],
   "source": [
    "d = {'m':[1,2,3],'l':[4,5,6]}\n",
    "\n",
    "for key, value in d.items():\n",
    "    \n",
    "    #print(key, value)\n",
    "    for v in value:\n",
    "        print('%s_%s' % (key, v))\n",
    "        # do something with the key and value   "
   ]
  },
  {
   "cell_type": "code",
   "execution_count": 102,
   "metadata": {},
   "outputs": [
    {
     "name": "stdout",
     "output_type": "stream",
     "text": [
      "make ['bmw', 'audi', 'fiat', 'mercedes-benz', 'chrysler', 'nissan', 'volvo', 'mazda', 'mitsubishi', 'ferrari', 'alfa_romeo', 'toyota', 'mclaren', 'maybach', 'pontiac', 'porsche', 'saab', 'gmc', 'hyundai', 'plymouth', 'honda', 'oldsmobile', 'suzuki', 'ford', 'cadillac', 'kia', 'bentley', 'chevrolet', 'dodge', 'lamborghini', 'lincoln', 'subaru', 'volkswagen', 'spyker', 'buick', 'acura', 'rolls-royce', 'maserati', 'lexus', 'aston_martin', 'land_rover', 'lotus', 'infiniti', 'scion', 'genesis', 'hummer', 'tesla', 'bugatti']\n",
      "model ['1_series_m', '1_series', '100', '124_spider', '190-class', '2_series', '200', '200sx', '240sx', '240', '2', '3_series_gran_turismo', '3_series', '300-class', '3000gt', '300', '300m', '300zx', '323', '350-class', '350z', '360', '370z', '3', '4_series_gran_coupe', '4_series', '400-class', '420-class', '456m', '458_italia', '4c', '4runner', '5_series_gran_turismo', '5_series', '500-class', '500e', '500', '500l', '500x', '550', '560-class', '570s', '575m', '57', '599', '5', '6_series_gran_coupe', '6_series', '600-class', '6000', '612_scaglietti', '626', '62', '650s_coupe', '650s_spider', '6', '7_series', '718_cayman', '740', '760', '780', '8_series', '80', '850', '86', '9-2x', '9-3_griffin', '9-3', '9-4x', '9-5', '9-7x', '9000', '900', '90', '911', '928', '929', '940', '944', '960', '968', 'a3', 'a4_allroad', 'a4', 'a5', 'a6', 'a7', 'a8', 'acadia_limited', 'acadia', 'accent', 'acclaim', 'accord_crosstour', 'accord_hybrid', 'accord_plug-in_hybrid', 'accord', 'achieva', 'activehybrid_5', 'activehybrid_7', 'activehybrid_x6', 'aerio', 'aerostar', 'alero', 'allante', 'allroad_quattro', 'allroad', 'alpina_b6_gran_coupe', 'alpina_b7', 'alpina', 'altima_hybrid', 'altima', 'amanti', 'amg_gt', 'armada', 'arnage', 'aspen', 'aspire', 'astro_cargo', 'astro', 'ats_coupe', 'ats-v', 'ats', 'aurora', 'avalanche', 'avalon_hybrid', 'avalon', 'avenger', 'aventador', 'aveo', 'aviator', 'axxess', 'azera', 'aztek', 'azure_t', 'azure', 'b-class_electric_drive', 'b-series_pickup', 'b-series_truck', 'b-series', 'b9_tribeca', 'baja', 'beetle_convertible', 'beetle', 'beretta', 'black_diamond_avalanche', 'blackwood', 'blazer', 'bolt_ev', 'bonneville', 'borrego', 'boxster', 'bravada', 'breeze', 'bronco_ii', 'bronco', 'brooklands', 'brougham', 'brz', 'c-class', 'c-max_hybrid', 'c30', 'c36_amg', 'c43_amg', 'c70', 'c8', 'cabriolet', 'cabrio', 'cadenza', 'caliber', 'california_t', 'california', 'camaro', 'camry_hybrid', 'camry_solara', 'camry', 'canyon', 'caprice', 'captiva_sport', 'caravan', 'carrera_gt', 'cascada', 'catera', 'cavalier', 'cayenne', 'cayman_s', 'cayman', 'cc', 'celebrity', 'celica', 'century', 'challenger', 'charger', 'chevy_van', 'ciera', 'cirrus', 'city_express', 'civic_crx', 'civic_del_sol', 'civic', 'c/k_1500_series', 'c/k_2500_series', 'cl-class', 'cla-class', 'cl', 'classic', 'clk-class', 'cls-class', 'cobalt', 'colorado', 'colt', 'concorde', 'continental_flying_spur_speed', 'continental_flying_spur', 'continental_gt_speed_convertible', 'continental_gt_speed', 'continental_gt3-r', 'continental_gt', 'continental_gtc_speed', 'continental_gtc', 'continental_supersports_convertible', 'continental_supersports', 'continental', 'contour_svt', 'contour', 'corniche', 'corolla_im', 'corolla', 'corrado', 'corsica', 'corvette_stingray', 'corvette', 'coupe', 'cr-v', 'cr-z', 'cressida', 'crossfire', 'crosstour', 'crosstrek', 'crown_victoria', 'cruze_limited', 'cruze', 'ct_200h', 'ct6', 'cts_coupe', 'cts-v_coupe', 'cts-v_wagon', 'cts-v', 'cts_wagon', 'cts', 'cube', 'custom_cruiser', 'cutlass_calais', 'cutlass_ciera', 'cutlass_supreme', 'cutlass', 'cx-3', 'cx-5', 'cx-7', 'cx-9', 'dakota', 'dart', 'dawn', 'daytona', 'db7', 'db9_gt', 'db9', 'dbs', 'defender', 'deville', 'diablo', 'diamante', 'discovery_series_ii', 'discovery_sport', 'discovery', 'dts', 'durango', 'dynasty', 'e-150', 'e-250', 'e-class', 'e-golf', 'e-series_van', 'e-series_wagon', 'e55_amg', 'echo', 'eclipse_spyder', 'eclipse', 'edge', 'eighty-eight_royale', 'eighty-eight', 'elantra_coupe', 'elantra_gt', 'elantra_touring', 'elantra', 'eldorado', 'electra', 'element', 'elise', 'enclave', 'encore', 'endeavor', 'entourage', 'envision', 'envoy_xl', 'envoy_xuv', 'envoy', 'enzo', 'eos', 'equator', 'equinox', 'equus', 'es_250', 'es_300h', 'es_300', 'es_330', 'es_350', 'escalade_esv', 'escalade_ext', 'escalade_hybrid', 'escalade', 'escape_hybrid', 'escape', 'escort', 'esprit', 'estate_wagon', 'esteem', 'eurovan', 'evora_400', 'evora', 'ex35', 'excel', 'exige', 'ex', 'expedition', 'explorer_sport_trac', 'explorer_sport', 'explorer', 'expo', 'express_cargo', 'express', 'f-150_heritage', 'f-150_svt_lightning', 'f-150', 'f-250', 'f12_berlinetta', 'f430', 'festiva', 'ff', 'fiesta', 'firebird', 'fit_ev', 'fit', 'five_hundred', 'fj_cruiser', 'fleetwood', 'flex', 'flying_spur', 'focus_rs', 'focus_st', 'focus', 'forenza', 'forester', 'forte', 'fox', 'fr-s', 'freelander', 'freestar', 'freestyle', 'frontier', 'fusion_hybrid', 'fusion', 'fx35', 'fx45', 'fx50', 'fx', 'g-class', 'g_convertible', 'g_coupe', 'g_sedan', 'g20', 'g35', 'g37_convertible', 'g37_coupe', 'g37_sedan', 'g37', 'g3', 'g5', 'g6', 'g80', 'g8', 'galant', 'gallardo', 'genesis_coupe', 'genesis', 'ghibli', 'ghost_series_ii', 'ghost', 'gl-class', 'gla-class', 'glc-class', 'gle-class_coupe', 'gle-class', 'gli', 'glk-class', 'gls-class', 'golf_alltrack', 'golf_gti', 'golf_r', 'golf_sportwagen', 'golf', 'grand_am', 'grand_caravan', 'grand_prix', 'grand_vitara', 'grand_voyager', 'gransport', 'granturismo_convertible', 'granturismo', 'gs_200t', 'gs_300', 'gs_350', 'gs_400', 'gs_430', 'gs_450h', 'gs_460', 'gs_f', 'gt-r', 'gt', 'gti', 'gto', 'gx_460', 'gx_470', 'h3', 'h3t', 'hhr', 'highlander_hybrid', 'highlander', 'horizon', 'hr-v', 'hs_250h', 'huracan', 'i-miev', 'i30', 'i35', 'i3', 'ia', 'ilx_hybrid', 'ilx', 'impala_limited', 'impala', 'imperial', 'impreza_wrx', 'impreza', 'im', 'insight', 'integra', 'intrepid', 'intrigue', 'iq', 'is_200t', 'is_250_c', 'is_250', 'is_300', 'is_350_c', 'is_350', 'is_f', 'j30', 'jetta_gli', 'jetta_hybrid', 'jetta_sportwagen', 'jetta', 'jimmy', 'journey', 'juke', 'justy', 'jx', 'k900', 'kizashi', 'lacrosse', 'lancer_evolution', 'lancer_sportback', 'lancer', 'land_cruiser', 'landaulet', 'laser', 'le_baron', 'le_mans', 'leaf', 'legacy', 'legend', 'lesabre', 'levante', 'lfa', 'lhs', 'loyale', 'lr2', 'lr3', 'lr4', 'ls_400', 'ls_430', 'ls_460', 'ls_600h_l', 'ls', 'lss', 'ltd_crown_victoria', 'lucerne', 'lumina_minivan', 'lumina', 'lx_450', 'lx_470', 'lx_570', 'm-class', 'm2', 'm30', 'm35', 'm37', 'm3', 'm4_gts', 'm45', 'm4', 'm56', 'm5', 'm6_gran_coupe', 'm6', 'macan', 'magnum', 'malibu_classic', 'malibu_hybrid', 'malibu_limited', 'malibu_maxx', 'malibu', 'mark_lt', 'mark_viii', 'mark_vii', 'matrix', 'maxima', 'maybach', 'mazdaspeed_3', 'mazdaspeed_6', 'mazdaspeed_mx-5_miata', 'mazdaspeed_protege', 'm', 'mdx', 'metris', 'metro', 'mighty_max_pickup', 'millenia', 'mirage_g4', 'mirage', 'mkc', 'mks', 'mkt', 'mkx', 'mkz_hybrid', 'mkz', 'ml55_amg', 'model_s', 'monaco', 'montana_sv6', 'montana', 'monte_carlo', 'montero_sport', 'montero', 'mp4-12c', 'mpv', 'mr2_spyder', 'mr2', 'mulsanne', 'murano_crosscabriolet', 'murano', 'murcielago', 'mustang_svt_cobra', 'mustang', 'mx-3', 'mx-5_miata', 'mx-6', 'navajo', 'navigator', 'neon', 'new_beetle', 'new_yorker', 'ninety-eight', 'nitro', 'nsx', 'nv200', 'nx_200t', 'nx_300h', 'nx', 'odyssey', 'omni', 'optima_hybrid', 'optima', 'outback', 'outlander_sport', 'outlander', 'pacifica', 'panamera', 'park_avenue', 'park_ward', 'paseo', 'passat', 'passport', 'pathfinder', 'phaeton', 'phantom_coupe', 'phantom_drophead_coupe', 'phantom', 'pickup', 'pilot', 'precis', 'prelude', 'previa', 'prius_c', 'prius_prime', 'prius_v', 'prius', 'prizm', 'probe', 'protege5', 'protege', 'prowler', 'pt_cruiser', 'pulsar', 'q3', 'q40', 'q45', 'q50', 'q5', 'q60_convertible', 'q60_coupe', 'q70', 'q7', 'quattroporte', 'quest', 'qx4', 'qx50', 'qx56', 'qx60', 'qx70', 'qx80', 'qx', 'r-class', 'r32', 'r8', 'rabbit', 'raider', 'rainier', 'rally_wagon', 'ram_150', 'ram_250', 'ram_50_pickup', 'ram_cargo', 'ram_pickup_1500', 'ram_van', 'ram_wagon', 'ramcharger', 'range_rover_evoque', 'range_rover_sport', 'range_rover', 'ranger', 'rapide_s', 'rapide', 'rav4_ev', 'rav4_hybrid', 'rav4', 'rc_200t', 'rc_300', 'rc_350', 'rc_f', 'rdx', 'reatta', 'regal', 'regency', 'rendezvous', 'reno', 'reventon', 'ridgeline', 'rio', 'riviera', 'rl', 'rlx', 'roadmaster', 'rogue_select', 'rogue', 'rondo', 'routan', 'rs_4', 'rs_5', 'rs_6', 'rs_7', 'rsx', 'rx_300', 'rx_330', 'rx_350', 'rx_400h', 'rx_450h', 'rx-7', 'rx-8', 's-10_blazer', 's-10', 's-15_jimmy', 's-15', 's-class', 's2000', 's3', 's40', 's4', 's5', 's60_cross_country', 's60', 's6', 's70', 's7', 's80', 's8', 's90', 'safari_cargo', 'safari', 'samurai', 'santa_fe_sport', 'santa_fe', 'savana_cargo', 'savana', 'sc_300', 'sc_400', 'sc_430', 'scoupe', 'sebring', 'sedona', 'sentra', 'sephia', 'sequoia', 'seville', 'shadow', 'shelby_gt350', 'shelby_gt500', 'sidekick', 'sienna', 'sierra_1500_classic', 'sierra_1500_hybrid', 'sierra_1500', 'sierra_1500hd', 'sierra_c3', 'sierra_classic_1500', 'sigma', 'silhouette', 'silver_seraph', 'silverado_1500_classic', 'silverado_1500_hybrid', 'silverado_1500', 'sixty_special', 'skylark', 'sl-class', 'slc-class', 'slk-class', 'slr_mclaren', 'sls_amg_gt_final_edition', 'sls_amg_gt', 'sls_amg', 'slx', 'solstice', 'sonata_hybrid', 'sonata', 'sonic', 'sonoma', 'sorento', 'soul_ev', 'soul', 'spark_ev', 'spark', 'spectra', 'spirit', 'sportage', 'sportvan', 'spyder', 'sq5', 'srt_viper', 'srx', 'ss', 'ssr', 'stanza', 'stealth', 'stratus', 'sts-v', 'sts', 'suburban', 'sunbird', 'sundance', 'sunfire', 'superamerica', 'supersports_convertible_isr', 'supra', 'svx', 'swift', 'sx4', 'syclone', 't100', 'tacoma', 'tahoe_hybrid', 'tahoe_limited/z71', 'tahoe', 'taurus_x', 'taurus', 'tc', 'tempo', 'tercel', 'terrain', 'terraza', 'thunderbird', 'tiburon', 'tiguan', 'titan', 'tl', 'tlx', 'toronado', 'torrent', 'touareg_2', 'touareg', 'town_and_country', 'town_car', 'tracker', 'trailblazer_ext', 'trailblazer', 'trans_sport', 'transit_connect', 'transit_wagon', 'traverse', 'trax', 'tribeca', 'tribute_hybrid', 'tribute', 'truck', 'tsx_sport_wagon', 'tsx', 'tt_rs', 'tt', 'tts', 'tucson', 'tundra', 'typhoon', 'uplander', 'v12_vanquish', 'v12_vantage_s', 'v12_vantage', 'v40', 'v50', 'v60_cross_country', 'v60', 'v70', 'v8_vantage', 'v8', 'v90', 'vanagon', 'vandura', 'van', 'vanquish', 'vanwagon', 'veloster', 'venture', 'venza', 'veracruz', 'verano', 'verona', 'versa_note', 'versa', 'veyron_16.4', 'vibe', 'vigor', 'viper', 'virage', 'vitara', 'voyager', 'windstar_cargo', 'windstar', 'wraith', 'wrx', 'x-90', 'x1', 'x3', 'x4', 'x5_m', 'x5', 'x6_m', 'x6', 'xa', 'xb', 'xc60', 'xc70', 'xc90', 'xc', 'xd', 'xg300', 'xg350', 'xl-7', 'xl7', 'xlr-v', 'xlr', 'xt5', 'xterra', 'xts', 'xt', 'xv_crosstrek', 'yaris_ia', 'yaris', 'yukon_denali', 'yukon_hybrid', 'yukon_xl', 'yukon', 'z3', 'z4_m', 'z4', 'z8', 'zdx', 'zephyr']\n",
      "engine_fuel_type ['premium_unleaded_(required)', 'regular_unleaded', 'premium_unleaded_(recommended)', 'flex-fuel_(unleaded/e85)', 'diesel', 'electric', 'flex-fuel_(premium_unleaded_recommended/e85)', 'natural_gas', 'flex-fuel_(premium_unleaded_required/e85)', 'flex-fuel_(unleaded/natural_gas)', 0]\n",
      "transmission_type ['manual', 'automatic', 'automated_manual', 'direct_drive', 'unknown']\n",
      "driven_wheels ['rear_wheel_drive', 'front_wheel_drive', 'all_wheel_drive', 'four_wheel_drive']\n",
      "market_category ['factory_tuner,luxury,high-performance', 'luxury,performance', 'luxury,high-performance', 'luxury', 'performance', 'flex_fuel', 'flex_fuel,performance', 0, 'hatchback', 'hatchback,luxury,performance', 'hatchback,luxury', 'luxury,high-performance,hybrid', 'diesel,luxury', 'hatchback,performance', 'hatchback,factory_tuner,performance', 'high-performance', 'factory_tuner,high-performance', 'exotic,high-performance', 'exotic,factory_tuner,high-performance', 'factory_tuner,performance', 'crossover', 'exotic,luxury', 'exotic,luxury,high-performance', 'exotic,luxury,performance', 'factory_tuner,luxury,performance', 'flex_fuel,luxury', 'crossover,luxury', 'hatchback,factory_tuner,luxury,performance', 'crossover,hatchback', 'hybrid', 'luxury,performance,hybrid', 'crossover,luxury,performance,hybrid', 'crossover,luxury,performance', 'exotic,factory_tuner,luxury,high-performance', 'flex_fuel,luxury,high-performance', 'crossover,flex_fuel', 'diesel', 'hatchback,diesel', 'crossover,luxury,diesel', 'crossover,luxury,high-performance', 'exotic,flex_fuel,factory_tuner,luxury,high-performance', 'exotic,flex_fuel,luxury,high-performance', 'exotic,factory_tuner,luxury,performance', 'hatchback,hybrid', 'crossover,hybrid', 'hatchback,luxury,hybrid', 'flex_fuel,luxury,performance', 'crossover,performance', 'luxury,hybrid', 'crossover,flex_fuel,luxury,performance', 'crossover,flex_fuel,luxury', 'crossover,flex_fuel,performance', 'hatchback,factory_tuner,high-performance', 'hatchback,flex_fuel', 'factory_tuner,luxury', 'crossover,factory_tuner,luxury,high-performance', 'crossover,factory_tuner,luxury,performance', 'crossover,hatchback,factory_tuner,performance', 'crossover,hatchback,performance', 'flex_fuel,hybrid', 'flex_fuel,performance,hybrid', 'crossover,exotic,luxury,high-performance', 'crossover,exotic,luxury,performance', 'exotic,performance', 'exotic,luxury,high-performance,hybrid', 'crossover,luxury,hybrid', 'flex_fuel,factory_tuner,luxury,high-performance', 'performance,hybrid', 'crossover,factory_tuner,performance', 'crossover,diesel', 'flex_fuel,diesel', 'crossover,hatchback,luxury']\n",
      "vehicle_size ['compact', 'midsize', 'large']\n",
      "vehicle_style ['coupe', 'convertible', 'sedan', 'wagon', '4dr_hatchback', '2dr_hatchback', '4dr_suv', 'passenger_minivan', 'cargo_minivan', 'crew_cab_pickup', 'regular_cab_pickup', 'extended_cab_pickup', '2dr_suv', 'cargo_van', 'convertible_suv', 'passenger_van']\n"
     ]
    }
   ],
   "source": [
    "df_categories = df.select_dtypes(include='object')\n",
    "categories = list(df_categories.columns)\n",
    "\n",
    "cat ={}\n",
    "for key, value in df_categories.items():\n",
    "    cat[key] = value.unique().tolist()\n",
    "for key, value in cat.items():\n",
    "    print(key, value)\n",
    "  "
   ]
  },
  {
   "cell_type": "markdown",
   "metadata": {},
   "source": [
    "def prepare_all_with_featureX(df):\n",
    "    df = df.copy()\n",
    "    features = base.copy()\n",
    "    df_categories = df.select_dtypes(include='object')\n",
    "    categories = list(df_categories.columns)\n",
    "\n",
    "    cat ={}\n",
    "\n",
    "    df['age'] =df['year'].max() - df.year\n",
    "    features.append('age')\n",
    "    \n",
    "    for v in [2, 3, 4]:\n",
    "        feature = 'num_doors_%s' % v\n",
    "        df[feature] = (df['number_of_doors'] == v).astype(int)\n",
    "        features.append(feature)\n",
    "\n",
    "\n",
    "    for c in df_categories.items():\n",
    "        cat[key] = value.unique().tolist()\n",
    "    for key, value in cat.items():\n",
    "        for v in value:\n",
    "            feature = '%s_%s' % (key, v)\n",
    "            df[feature] = (df[key] == v).astype(int)\n",
    "            features.append(feature)\n",
    "\n",
    "    df_num = df[features]\n",
    "\n",
    "    df_num = df_num.fillna(0)\n",
    "\n",
    "    X = df_num.values\n",
    "\n",
    "    return X"
   ]
  },
  {
   "cell_type": "code",
   "execution_count": 103,
   "metadata": {},
   "outputs": [
    {
     "data": {
      "text/plain": [
       "{'make': ['chevrolet', 'ford', 'volkswagen', 'toyota', 'dodge'],\n",
       " 'model': ['silverado_1500',\n",
       "  'tundra',\n",
       "  'f-150',\n",
       "  'sierra_1500',\n",
       "  'beetle_convertible'],\n",
       " 'engine_fuel_type': ['regular_unleaded',\n",
       "  'premium_unleaded_(required)',\n",
       "  'premium_unleaded_(recommended)',\n",
       "  'flex-fuel_(unleaded/e85)',\n",
       "  'diesel'],\n",
       " 'transmission_type': ['automatic',\n",
       "  'manual',\n",
       "  'automated_manual',\n",
       "  'direct_drive',\n",
       "  'unknown'],\n",
       " 'driven_wheels': ['front_wheel_drive',\n",
       "  'rear_wheel_drive',\n",
       "  'all_wheel_drive',\n",
       "  'four_wheel_drive'],\n",
       " 'market_category': [0,\n",
       "  'crossover',\n",
       "  'flex_fuel',\n",
       "  'luxury',\n",
       "  'luxury,performance'],\n",
       " 'vehicle_size': ['compact', 'midsize', 'large'],\n",
       " 'vehicle_style': ['sedan',\n",
       "  '4dr_suv',\n",
       "  'coupe',\n",
       "  'convertible',\n",
       "  '4dr_hatchback']}"
      ]
     },
     "execution_count": 103,
     "metadata": {},
     "output_type": "execute_result"
    }
   ],
   "source": [
    "df_categories = df.select_dtypes(include='object')\n",
    "categories = list(df_categories.columns)\n",
    "cat ={}\n",
    "for c in categories:\n",
    "        cat[c] = list(df[c].value_counts().head().index)\n",
    "cat\n",
    "        \n"
   ]
  },
  {
   "cell_type": "code",
   "execution_count": 104,
   "metadata": {},
   "outputs": [],
   "source": [
    "def prepare_all_with_featureX(df):\n",
    "    df = df.copy()\n",
    "    features = base.copy()\n",
    "    df['age'] =df['year'].max() - df.year\n",
    "    features.append('age')\n",
    "    \n",
    "    for v in [2, 3, 4]:\n",
    "        feature = 'num_doors_%s' % v\n",
    "        df[feature] = (df['number_of_doors'] == v).astype(int)\n",
    "        features.append(feature)\n",
    "\n",
    "    for c,values in cat.items():\n",
    "        for v in values:\n",
    "            feature = '%s_%s' %(c,v)\n",
    "            df[feature] = (df[c] == v).astype(int)\n",
    "            features.append(feature)\n",
    "\n",
    "    df_num = df[features]\n",
    "\n",
    "    df_num = df_num.fillna(0)\n",
    "\n",
    "    X = df_num.values\n",
    "\n",
    "    return X"
   ]
  },
  {
   "cell_type": "code",
   "execution_count": 107,
   "metadata": {},
   "outputs": [
    {
     "data": {
      "text/plain": [
       "array([[563.,  12.,  21.,  13.,  86.,   3.,   0.,   0.,   1.,   0.,   0.,\n",
       "          0.,   0.,   0.,   0.,   1.,   0.,   0.,   1.,   0.,   0.]])"
      ]
     },
     "execution_count": 107,
     "metadata": {},
     "output_type": "execute_result"
    }
   ],
   "source": [
    "X_val[:1]"
   ]
  },
  {
   "cell_type": "code",
   "execution_count": 110,
   "metadata": {},
   "outputs": [
    {
     "name": "stdout",
     "output_type": "stream",
     "text": [
      "train: 29.837563029028278\n"
     ]
    },
    {
     "ename": "IndexError",
     "evalue": "only integers, slices (`:`), ellipsis (`...`), numpy.newaxis (`None`) and integer or boolean arrays are valid indices",
     "output_type": "error",
     "traceback": [
      "\u001b[31m---------------------------------------------------------------------------\u001b[39m",
      "\u001b[31mIndexError\u001b[39m                                Traceback (most recent call last)",
      "\u001b[36mCell\u001b[39m\u001b[36m \u001b[39m\u001b[32mIn[110]\u001b[39m\u001b[32m, line 9\u001b[39m\n\u001b[32m      5\u001b[39m y_pred = w_0 + X_train.dot(w)\n\u001b[32m      7\u001b[39m \u001b[38;5;28mprint\u001b[39m(\u001b[33m'\u001b[39m\u001b[33mtrain:\u001b[39m\u001b[33m'\u001b[39m, rmse(y_train, y_pred))\n\u001b[32m----> \u001b[39m\u001b[32m9\u001b[39m X_val = \u001b[43mprepare_all_with_featureX\u001b[49m\u001b[43m(\u001b[49m\u001b[43mX_val\u001b[49m\u001b[43m)\u001b[49m\n\u001b[32m     11\u001b[39m y_pred_val= w_0 + X_val.dot(w)\n\u001b[32m     13\u001b[39m \u001b[38;5;28mprint\u001b[39m(\u001b[33m'\u001b[39m\u001b[33mvalidation:\u001b[39m\u001b[33m'\u001b[39m, rmse(y_val, y_pred_val))\n",
      "\u001b[36mCell\u001b[39m\u001b[36m \u001b[39m\u001b[32mIn[104]\u001b[39m\u001b[32m, line 4\u001b[39m, in \u001b[36mprepare_all_with_featureX\u001b[39m\u001b[34m(df)\u001b[39m\n\u001b[32m      2\u001b[39m df = df.copy()\n\u001b[32m      3\u001b[39m features = base.copy()\n\u001b[32m----> \u001b[39m\u001b[32m4\u001b[39m df[\u001b[33m'\u001b[39m\u001b[33mage\u001b[39m\u001b[33m'\u001b[39m] =\u001b[43mdf\u001b[49m\u001b[43m[\u001b[49m\u001b[33;43m'\u001b[39;49m\u001b[33;43myear\u001b[39;49m\u001b[33;43m'\u001b[39;49m\u001b[43m]\u001b[49m.max() - df.year\n\u001b[32m      5\u001b[39m features.append(\u001b[33m'\u001b[39m\u001b[33mage\u001b[39m\u001b[33m'\u001b[39m)\n\u001b[32m      7\u001b[39m \u001b[38;5;28;01mfor\u001b[39;00m v \u001b[38;5;129;01min\u001b[39;00m [\u001b[32m2\u001b[39m, \u001b[32m3\u001b[39m, \u001b[32m4\u001b[39m]:\n",
      "\u001b[31mIndexError\u001b[39m: only integers, slices (`:`), ellipsis (`...`), numpy.newaxis (`None`) and integer or boolean arrays are valid indices"
     ]
    }
   ],
   "source": [
    "X_train = prepare_all_with_featureX(df_train)\n",
    "\n",
    "w_0, w = train_linear_regression(X_train, y_train)\n",
    "\n",
    "y_pred = w_0 + X_train.dot(w)\n",
    "\n",
    "print('train:', rmse(y_train, y_pred))\n",
    "\n",
    "X_val = prepare_all_with_featureX(X_val)\n",
    "\n",
    "y_pred_val= w_0 + X_val.dot(w)\n",
    "\n",
    "print('validation:', rmse(y_val, y_pred_val))"
   ]
  },
  {
   "cell_type": "code",
   "execution_count": 113,
   "metadata": {},
   "outputs": [
    {
     "name": "stdout",
     "output_type": "stream",
     "text": [
      "train: 138.97871325214714\n",
      "validation: 103.27206215274371\n"
     ]
    }
   ],
   "source": [
    "X_train = prepare_X(df_train)\n",
    "w_0, w = train_linear_regression(X_train, y_train)\n",
    "\n",
    "y_pred = w_0 + X_train.dot(w)\n",
    "print('train:', rmse(y_train, y_pred))\n",
    "\n",
    "X_val = prepare_X(df_val)\n",
    "y_pred = w_0 + X_val.dot(w)\n",
    "print('validation:', rmse(y_val, y_pred))"
   ]
  },
  {
   "cell_type": "code",
   "execution_count": 114,
   "metadata": {},
   "outputs": [
    {
     "data": {
      "image/png": "[encoded data removed]",
      "text/plain": [
       "<Figure size 640x480 with 1 Axes>"
      ]
     },
     "metadata": {},
     "output_type": "display_data"
    }
   ],
   "source": [
    "sns.histplot(y_val, label='target', color=\"#FD0B0BFF\", alpha=0.6, bins=40)\n",
    "sns.histplot(y_pred, label='prediction', color=\"#868fdf19\", alpha=0.8, bins=40)\n",
    "\n",
    "plt.legend()\n",
    "\n",
    "plt.ylabel('Frequency')\n",
    "plt.xlabel('Log(Price + 1)')\n",
    " \n",
    "plt.title('Predictions vs actual distribution')\n",
    "\n",
    "plt.show()"
   ]
  },
  {
   "cell_type": "code",
   "execution_count": 115,
   "metadata": {},
   "outputs": [
    {
     "data": {
      "text/plain": [
       "np.float64(1.0939270370837908e+16)"
      ]
     },
     "execution_count": 115,
     "metadata": {},
     "output_type": "execute_result"
    }
   ],
   "source": [
    "w_0"
   ]
  },
  {
   "cell_type": "markdown",
   "metadata": {},
   "source": [
    "# Exploring issues with the gram matrix"
   ]
  },
  {
   "cell_type": "code",
   "execution_count": null,
   "metadata": {},
   "outputs": [],
   "source": [
    "a = [140,11,11];b = [11,108,108];c = [11,108,108]\n",
    "\n",
    "def lr(x,y,r=0.0):\n",
    "    x  = np.array([a,b,c])\n",
    "    xT = x.T\n",
    "    gram  = xT.dot(x)\n",
    "    gram_inv = np.linalg.inv(gram)"
   ]
  },
  {
   "cell_type": "code",
   "execution_count": null,
   "metadata": {},
   "outputs": [
    {
     "ename": "ValueError",
     "evalue": "operands could not be broadcast together with shapes (4,4) (3,3) ",
     "output_type": "error",
     "traceback": [
      "\u001b[31m---------------------------------------------------------------------------\u001b[39m",
      "\u001b[31mValueError\u001b[39m                                Traceback (most recent call last)",
      "\u001b[36mCell\u001b[39m\u001b[36m \u001b[39m\u001b[32mIn[88]\u001b[39m\u001b[32m, line 12\u001b[39m\n\u001b[32m     10\u001b[39m reged\n\u001b[32m     11\u001b[39m gram = gram_matrix(T)\n\u001b[32m---> \u001b[39m\u001b[32m12\u001b[39m gram_reged = \u001b[43mgram\u001b[49m\u001b[43m \u001b[49m\u001b[43m+\u001b[49m\u001b[43m \u001b[49m\u001b[43mreged\u001b[49m\n\u001b[32m     14\u001b[39m gram_reged_inv = np.linalg.inv(gram_reged)\n\u001b[32m     15\u001b[39m y = np.array([\u001b[32m1\u001b[39m,\u001b[32m2\u001b[39m,\u001b[32m3\u001b[39m])\n",
      "\u001b[31mValueError\u001b[39m: operands could not be broadcast together with shapes (4,4) (3,3) "
     ]
    }
   ],
   "source": [
    "T = np.array([a,b,c])\n",
    "onez = np.ones(T.shape[0])\n",
    "T = np.column_stack([onez, T])\n",
    "\n",
    "def gram_matrix(x):\n",
    "    xT = x.T\n",
    "    return xT.dot(x)\n",
    "r = 0.001\n",
    "reged  = r * np.eye(T.shape[0])\n",
    "reged\n",
    "gram = gram_matrix(T)\n",
    "gram_reged = gram + reged\n",
    "\n",
    "gram_reged_inv = np.linalg.inv(gram_reged)\n",
    "y = np.array([1,2,3])\n",
    "\n",
    "\n",
    "w = gram_reged_inv.dot(T.T).dot(y)"
   ]
  },
  {
   "cell_type": "markdown",
   "metadata": {},
   "source": [
    "## Regularisation"
   ]
  },
  {
   "cell_type": "code",
   "execution_count": 116,
   "metadata": {},
   "outputs": [],
   "source": [
    "def train_linear_regression_reg(X, y, a=0.0):\n",
    "    ones = np.ones(X.shape[0])\n",
    "    X = np.column_stack([ones, X])\n",
    "\n",
    "    XTX = X.T.dot(X)\n",
    "    reg = a* np.eye(XTX.shape[0])\n",
    "    XTX = XTX + reg\n",
    "\n",
    "    XTX_inv = np.linalg.inv(XTX)\n",
    "    w = XTX_inv.dot(X.T).dot(y)\n",
    "    \n",
    "    return w[0], w[1:]"
   ]
  },
  {
   "cell_type": "code",
   "execution_count": 117,
   "metadata": {},
   "outputs": [],
   "source": [
    "X_train = prepare_all_with_featureX(df_train)"
   ]
  },
  {
   "cell_type": "code",
   "execution_count": 127,
   "metadata": {},
   "outputs": [
    {
     "name": "stdout",
     "output_type": "stream",
     "text": [
      "     a,       |w_0,     |w13,     |w21\n",
      "    0, |1755601514386149.75, |-1.04, |-22.81\n",
      "0.001, | 6.31, |-0.13, |-0.29\n",
      " 0.01, | 6.30, |-0.13, |-0.29\n",
      "  0.1, | 6.22, |-0.13, |-0.28\n",
      "    1, | 5.66, |-0.13, |-0.22\n",
      "   10, | 4.28, |-0.12, | 0.16\n"
     ]
    }
   ],
   "source": [
    "print('     a,       |w_0,     |w13,     |w21')\n",
    "for r in [0, 0.001, 0.01, 0.1, 1, 10]:\n",
    "    w_0, w = train_linear_regression_reg(X_train, y_train, a=r)\n",
    "    print('%5s, |%5.2f, |%5.2f, |%5.2f' % (r, w_0, w[13], w[21]))"
   ]
  },
  {
   "cell_type": "code",
   "execution_count": 128,
   "metadata": {},
   "outputs": [
    {
     "name": "stdout",
     "output_type": "stream",
     "text": [
      "train 29.837563029028278\n",
      "val 25.70135629730248\n"
     ]
    }
   ],
   "source": [
    "X_train = prepare_all_with_featureX(df_train)\n",
    "w_0, w = train_linear_regression_reg(X_train, y_train, a=0)\n",
    "\n",
    "y_pred = w_0 + X_train.dot(w)\n",
    "print('train', rmse(y_train, y_pred))\n",
    "\n",
    "X_val = prepare_all_with_featureX(df_val)\n",
    "y_pred = w_0 + X_val.dot(w)\n",
    "print('val', rmse(y_val, y_pred))"
   ]
  },
  {
   "cell_type": "code",
   "execution_count": 129,
   "metadata": {},
   "outputs": [
    {
     "name": "stdout",
     "output_type": "stream",
     "text": [
      "train 0.4544974472212899\n",
      "val 0.45082040475783725\n"
     ]
    }
   ],
   "source": [
    "X_train = prepare_all_with_featureX(df_train)\n",
    "w_0, w = train_linear_regression_reg(X_train, y_train, a=0.01)\n",
    "\n",
    "y_pred = w_0 + X_train.dot(w)\n",
    "print('train', rmse(y_train, y_pred))\n",
    "\n",
    "X_val = prepare_all_with_featureX(df_val)\n",
    "y_pred = w_0 + X_val.dot(w)\n",
    "print('val', rmse(y_val, y_pred))"
   ]
  },
  {
   "cell_type": "code",
   "execution_count": 136,
   "metadata": {},
   "outputs": [
    {
     "name": "stdout",
     "output_type": "stream",
     "text": [
      " a | Val-rmse |Train-rmse\n",
      "_________________________\n",
      "     0 | 0.47 | 0.47\n",
      " 0.001 | 0.47 | 0.47\n",
      "  0.01 | 0.47 | 0.47\n",
      "   0.1 | 0.47 | 0.47\n",
      "     1 | 0.47 | 0.47\n",
      "    10 | 0.47 | 0.47\n"
     ]
    }
   ],
   "source": [
    "X_train = prepare_all_with_featureX(df_train)\n",
    "y_pred = w_0 + X_train.dot(w)\n",
    "y_pred_val = w_0 + X_val.dot(w)\n",
    "\n",
    "print(' a | Val-rmse |Train-rmse')\n",
    "print('_________________________')\n",
    "for a in [0, 0.001, 0.01, 0.1, 1, 10]:\n",
    "    w_0, w = train_linear_regression_reg(X_train, y_train, a=a)\n",
    "    print('%6s | %.2f | %.2f' %(a, rmse(y_val, y_pred_val), rmse(y_train, y_pred)))"
   ]
  },
  {
   "cell_type": "code",
   "execution_count": 143,
   "metadata": {},
   "outputs": [
    {
     "name": "stdout",
     "output_type": "stream",
     "text": [
      "Train 0.45325287139359827\n",
      "test: 0.44617563072024685\n"
     ]
    }
   ],
   "source": [
    "# Prepare the full training data\n",
    "# This combines the training and validation sets\n",
    "# to train the model on all available data\n",
    "\n",
    "import pandas as pd\n",
    "\n",
    "df_full_train = pd.concat([df_train,df_val])\n",
    "\n",
    "y_full_train = np.concatenate([y_train, y_val])\n",
    "\n",
    "X_train = prepare_all_with_featureX(df_full_train)\n",
    "\n",
    "\n",
    "w_0, w = train_linear_regression_reg(X_train, y_full_train, a=0.01)\n",
    "\n",
    "\n",
    "y_pred = w_0 + X_train.dot(w)\n",
    "print('Train', rmse(y_full_train, y_pred))\n",
    "\n",
    "X_test = prepare_all_with_featureX(df_test)\n",
    "y_pred_test= w_0 + X_test.dot(w)\n",
    "print('test:', rmse(y_test, y_pred_test))"
   ]
  },
  {
   "cell_type": "markdown",
   "metadata": {},
   "source": [
    "## Using the model"
   ]
  },
  {
   "cell_type": "code",
   "execution_count": 144,
   "metadata": {},
   "outputs": [
    {
     "data": {
      "text/plain": [
       "{'make': 'gmc',\n",
       " 'model': 'sierra_1500',\n",
       " 'year': 2016,\n",
       " 'engine_fuel_type': 'regular_unleaded',\n",
       " 'engine_hp': 355.0,\n",
       " 'engine_cylinders': 8.0,\n",
       " 'transmission_type': 'automatic',\n",
       " 'driven_wheels': 'four_wheel_drive',\n",
       " 'number_of_doors': 4.0,\n",
       " 'market_category': 0,\n",
       " 'vehicle_size': 'large',\n",
       " 'vehicle_style': 'crew_cab_pickup',\n",
       " 'highway_mpg': 22,\n",
       " 'city_mpg': 16,\n",
       " 'popularity': 549}"
      ]
     },
     "execution_count": 144,
     "metadata": {},
     "output_type": "execute_result"
    }
   ],
   "source": [
    "i = 20\n",
    "car = df_test.iloc[i].to_dict()\n",
    "car"
   ]
  },
  {
   "cell_type": "code",
   "execution_count": 151,
   "metadata": {},
   "outputs": [
    {
     "data": {
      "text/plain": [
       "array([55564.81763443])"
      ]
     },
     "execution_count": 151,
     "metadata": {},
     "output_type": "execute_result"
    }
   ],
   "source": [
    "X_car = prepare_all_with_featureX(pd.DataFrame([car]))\n",
    "y_pred = w_0 + X_car.dot(w)\n",
    "suggestion = np.expm1(y_pred)\n",
    "suggestion"
   ]
  },
  {
   "cell_type": "code",
   "execution_count": 155,
   "metadata": {},
   "outputs": [
    {
     "data": {
      "text/plain": [
       "np.float64(54240.00000000002)"
      ]
     },
     "execution_count": 155,
     "metadata": {},
     "output_type": "execute_result"
    }
   ],
   "source": [
    "np.expm1(y_test[20])\n"
   ]
  },
  {
   "cell_type": "code",
   "execution_count": 156,
   "metadata": {},
   "outputs": [
    {
     "data": {
      "text/plain": [
       "array([1324.81763443])"
      ]
     },
     "execution_count": 156,
     "metadata": {},
     "output_type": "execute_result"
    }
   ],
   "source": [
    "diference = suggestion - np.expm1(y_test[20])\n",
    "diference"
   ]
  }
 ],
 "metadata": {
  "anaconda-cloud": {},
  "kernelspec": {
   "display_name": "Python 3",
   "language": "python",
   "name": "python3"
  },
  "language_info": {
   "codemirror_mode": {
    "name": "ipython",
    "version": 3
   },
   "file_extension": ".py",
   "mimetype": "text/x-python",
   "name": "python",
   "nbconvert_exporter": "python",
   "pygments_lexer": "ipython3",
   "version": "3.12.1"
  }
 },
 "nbformat": 4,
 "nbformat_minor": 2
}
